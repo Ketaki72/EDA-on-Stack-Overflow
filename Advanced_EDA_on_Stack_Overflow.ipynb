{
  "nbformat": 4,
  "nbformat_minor": 0,
  "metadata": {
    "kernelspec": {
      "display_name": "Python 3 (ipykernel)",
      "language": "python",
      "name": "python3"
    },
    "language_info": {
      "codemirror_mode": {
        "name": "ipython",
        "version": 3
      },
      "file_extension": ".py",
      "mimetype": "text/x-python",
      "name": "python",
      "nbconvert_exporter": "python",
      "pygments_lexer": "ipython3",
      "version": "3.9.6"
    },
    "colab": {
      "name": "Advanced_EDA_on_Stack_Overflow.ipynb",
      "provenance": []
    }
  },
  "cells": [
    {
      "cell_type": "markdown",
      "metadata": {
        "id": "sqnUMSZrl-LA"
      },
      "source": [
        "# Exploratory Data Analysis on Stack Overflow dataset"
      ]
    },
    {
      "cell_type": "markdown",
      "metadata": {
        "id": "FZUdnM7fl-LQ"
      },
      "source": [
        "Lets Start by importing all the essential python libraries."
      ]
    },
    {
      "cell_type": "code",
      "metadata": {
        "id": "cjB7fycJl-LU"
      },
      "source": [
        "import matplotlib.pyplot as plt\n",
        "import seaborn as sns\n",
        "import pandas as pd\n",
        "import numpy as np\n",
        "import warnings  \n",
        "import matplotlib\n",
        "import matplotlib.pyplot as plt\n",
        "%matplotlib inline\n",
        "\n",
        "\n",
        "sns.set_style('darkgrid')\n",
        "matplotlib.rcParams['font.size'] = 14\n",
        "matplotlib.rcParams['figure.figsize'] = (9, 5)\n",
        "matplotlib.rcParams['figure.facecolor'] = '#00000000'\n",
        "warnings.filterwarnings(\"ignore\")"
      ],
      "execution_count": 22,
      "outputs": []
    },
    {
      "cell_type": "code",
      "metadata": {
        "id": "0L6oJmUEl-Lb"
      },
      "source": [
        "survey_raw_df = pd.read_csv('./survey_results_public.csv')"
      ],
      "execution_count": 3,
      "outputs": []
    },
    {
      "cell_type": "markdown",
      "metadata": {
        "id": "ejegb4hrl-Ld"
      },
      "source": [
        "### Read the dataset in dataframe"
      ]
    },
    {
      "cell_type": "code",
      "metadata": {
        "id": "8WZCo6ZRl-Lf",
        "outputId": "c361a8c6-6ebc-4693-830e-23bda92fbeb9",
        "colab": {
          "base_uri": "https://localhost:8080/",
          "height": 407
        }
      },
      "source": [
        "survey_raw_df.head(3)"
      ],
      "execution_count": 4,
      "outputs": [
        {
          "output_type": "execute_result",
          "data": {
            "text/html": [
              "<div>\n",
              "<style scoped>\n",
              "    .dataframe tbody tr th:only-of-type {\n",
              "        vertical-align: middle;\n",
              "    }\n",
              "\n",
              "    .dataframe tbody tr th {\n",
              "        vertical-align: top;\n",
              "    }\n",
              "\n",
              "    .dataframe thead th {\n",
              "        text-align: right;\n",
              "    }\n",
              "</style>\n",
              "<table border=\"1\" class=\"dataframe\">\n",
              "  <thead>\n",
              "    <tr style=\"text-align: right;\">\n",
              "      <th></th>\n",
              "      <th>Respondent</th>\n",
              "      <th>MainBranch</th>\n",
              "      <th>Hobbyist</th>\n",
              "      <th>Age</th>\n",
              "      <th>Age1stCode</th>\n",
              "      <th>CompFreq</th>\n",
              "      <th>CompTotal</th>\n",
              "      <th>ConvertedComp</th>\n",
              "      <th>Country</th>\n",
              "      <th>CurrencyDesc</th>\n",
              "      <th>CurrencySymbol</th>\n",
              "      <th>DatabaseDesireNextYear</th>\n",
              "      <th>DatabaseWorkedWith</th>\n",
              "      <th>DevType</th>\n",
              "      <th>EdLevel</th>\n",
              "      <th>Employment</th>\n",
              "      <th>Ethnicity</th>\n",
              "      <th>Gender</th>\n",
              "      <th>JobFactors</th>\n",
              "      <th>JobSat</th>\n",
              "      <th>JobSeek</th>\n",
              "      <th>LanguageDesireNextYear</th>\n",
              "      <th>LanguageWorkedWith</th>\n",
              "      <th>MiscTechDesireNextYear</th>\n",
              "      <th>MiscTechWorkedWith</th>\n",
              "      <th>NEWCollabToolsDesireNextYear</th>\n",
              "      <th>NEWCollabToolsWorkedWith</th>\n",
              "      <th>NEWDevOps</th>\n",
              "      <th>NEWDevOpsImpt</th>\n",
              "      <th>NEWEdImpt</th>\n",
              "      <th>NEWJobHunt</th>\n",
              "      <th>NEWJobHuntResearch</th>\n",
              "      <th>NEWLearn</th>\n",
              "      <th>NEWOffTopic</th>\n",
              "      <th>NEWOnboardGood</th>\n",
              "      <th>NEWOtherComms</th>\n",
              "      <th>NEWOvertime</th>\n",
              "      <th>NEWPurchaseResearch</th>\n",
              "      <th>NEWPurpleLink</th>\n",
              "      <th>NEWSOSites</th>\n",
              "      <th>NEWStuck</th>\n",
              "      <th>OpSys</th>\n",
              "      <th>OrgSize</th>\n",
              "      <th>PlatformDesireNextYear</th>\n",
              "      <th>PlatformWorkedWith</th>\n",
              "      <th>PurchaseWhat</th>\n",
              "      <th>Sexuality</th>\n",
              "      <th>SOAccount</th>\n",
              "      <th>SOComm</th>\n",
              "      <th>SOPartFreq</th>\n",
              "      <th>SOVisitFreq</th>\n",
              "      <th>SurveyEase</th>\n",
              "      <th>SurveyLength</th>\n",
              "      <th>Trans</th>\n",
              "      <th>UndergradMajor</th>\n",
              "      <th>WebframeDesireNextYear</th>\n",
              "      <th>WebframeWorkedWith</th>\n",
              "      <th>WelcomeChange</th>\n",
              "      <th>WorkWeekHrs</th>\n",
              "      <th>YearsCode</th>\n",
              "      <th>YearsCodePro</th>\n",
              "    </tr>\n",
              "  </thead>\n",
              "  <tbody>\n",
              "    <tr>\n",
              "      <th>0</th>\n",
              "      <td>1</td>\n",
              "      <td>I am a developer by profession</td>\n",
              "      <td>Yes</td>\n",
              "      <td>NaN</td>\n",
              "      <td>13</td>\n",
              "      <td>Monthly</td>\n",
              "      <td>NaN</td>\n",
              "      <td>NaN</td>\n",
              "      <td>Germany</td>\n",
              "      <td>European Euro</td>\n",
              "      <td>EUR</td>\n",
              "      <td>Microsoft SQL Server</td>\n",
              "      <td>Elasticsearch;Microsoft SQL Server;Oracle</td>\n",
              "      <td>Developer, desktop or enterprise applications;...</td>\n",
              "      <td>Master’s degree (M.A., M.S., M.Eng., MBA, etc.)</td>\n",
              "      <td>Independent contractor, freelancer, or self-em...</td>\n",
              "      <td>White or of European descent</td>\n",
              "      <td>Man</td>\n",
              "      <td>Languages, frameworks, and other technologies ...</td>\n",
              "      <td>Slightly satisfied</td>\n",
              "      <td>I am not interested in new job opportunities</td>\n",
              "      <td>C#;HTML/CSS;JavaScript</td>\n",
              "      <td>C#;HTML/CSS;JavaScript</td>\n",
              "      <td>.NET Core;Xamarin</td>\n",
              "      <td>.NET;.NET Core</td>\n",
              "      <td>Microsoft Teams;Microsoft Azure;Trello</td>\n",
              "      <td>Confluence;Jira;Slack;Microsoft Azure;Trello</td>\n",
              "      <td>No</td>\n",
              "      <td>Somewhat important</td>\n",
              "      <td>Fairly important</td>\n",
              "      <td>NaN</td>\n",
              "      <td>NaN</td>\n",
              "      <td>Once a year</td>\n",
              "      <td>Not sure</td>\n",
              "      <td>NaN</td>\n",
              "      <td>No</td>\n",
              "      <td>Often: 1-2 days per week or more</td>\n",
              "      <td>Start a free trial;Ask developers I know/work ...</td>\n",
              "      <td>Amused</td>\n",
              "      <td>Stack Overflow (public Q&amp;A for anyone who codes)</td>\n",
              "      <td>Visit Stack Overflow;Go for a walk or other ph...</td>\n",
              "      <td>Windows</td>\n",
              "      <td>2 to 9 employees</td>\n",
              "      <td>Android;iOS;Kubernetes;Microsoft Azure;Windows</td>\n",
              "      <td>Windows</td>\n",
              "      <td>NaN</td>\n",
              "      <td>Straight / Heterosexual</td>\n",
              "      <td>No</td>\n",
              "      <td>No, not at all</td>\n",
              "      <td>NaN</td>\n",
              "      <td>Multiple times per day</td>\n",
              "      <td>Neither easy nor difficult</td>\n",
              "      <td>Appropriate in length</td>\n",
              "      <td>No</td>\n",
              "      <td>Computer science, computer engineering, or sof...</td>\n",
              "      <td>ASP.NET Core</td>\n",
              "      <td>ASP.NET;ASP.NET Core</td>\n",
              "      <td>Just as welcome now as I felt last year</td>\n",
              "      <td>50.0</td>\n",
              "      <td>36</td>\n",
              "      <td>27</td>\n",
              "    </tr>\n",
              "    <tr>\n",
              "      <th>1</th>\n",
              "      <td>2</td>\n",
              "      <td>I am a developer by profession</td>\n",
              "      <td>No</td>\n",
              "      <td>NaN</td>\n",
              "      <td>19</td>\n",
              "      <td>NaN</td>\n",
              "      <td>NaN</td>\n",
              "      <td>NaN</td>\n",
              "      <td>United Kingdom</td>\n",
              "      <td>Pound sterling</td>\n",
              "      <td>GBP</td>\n",
              "      <td>NaN</td>\n",
              "      <td>NaN</td>\n",
              "      <td>Developer, full-stack;Developer, mobile</td>\n",
              "      <td>Bachelor’s degree (B.A., B.S., B.Eng., etc.)</td>\n",
              "      <td>Employed full-time</td>\n",
              "      <td>NaN</td>\n",
              "      <td>NaN</td>\n",
              "      <td>NaN</td>\n",
              "      <td>Very dissatisfied</td>\n",
              "      <td>I am not interested in new job opportunities</td>\n",
              "      <td>Python;Swift</td>\n",
              "      <td>JavaScript;Swift</td>\n",
              "      <td>React Native;TensorFlow;Unity 3D</td>\n",
              "      <td>React Native</td>\n",
              "      <td>Github;Slack</td>\n",
              "      <td>Confluence;Jira;Github;Gitlab;Slack</td>\n",
              "      <td>NaN</td>\n",
              "      <td>NaN</td>\n",
              "      <td>Fairly important</td>\n",
              "      <td>NaN</td>\n",
              "      <td>NaN</td>\n",
              "      <td>Once a year</td>\n",
              "      <td>Not sure</td>\n",
              "      <td>NaN</td>\n",
              "      <td>No</td>\n",
              "      <td>NaN</td>\n",
              "      <td>NaN</td>\n",
              "      <td>Amused</td>\n",
              "      <td>Stack Overflow (public Q&amp;A for anyone who code...</td>\n",
              "      <td>Visit Stack Overflow;Go for a walk or other ph...</td>\n",
              "      <td>MacOS</td>\n",
              "      <td>1,000 to 4,999 employees</td>\n",
              "      <td>iOS;Kubernetes;Linux;MacOS</td>\n",
              "      <td>iOS</td>\n",
              "      <td>I have little or no influence</td>\n",
              "      <td>NaN</td>\n",
              "      <td>Yes</td>\n",
              "      <td>Yes, definitely</td>\n",
              "      <td>Less than once per month or monthly</td>\n",
              "      <td>Multiple times per day</td>\n",
              "      <td>NaN</td>\n",
              "      <td>NaN</td>\n",
              "      <td>NaN</td>\n",
              "      <td>Computer science, computer engineering, or sof...</td>\n",
              "      <td>NaN</td>\n",
              "      <td>NaN</td>\n",
              "      <td>Somewhat more welcome now than last year</td>\n",
              "      <td>NaN</td>\n",
              "      <td>7</td>\n",
              "      <td>4</td>\n",
              "    </tr>\n",
              "    <tr>\n",
              "      <th>2</th>\n",
              "      <td>3</td>\n",
              "      <td>I code primarily as a hobby</td>\n",
              "      <td>Yes</td>\n",
              "      <td>NaN</td>\n",
              "      <td>15</td>\n",
              "      <td>NaN</td>\n",
              "      <td>NaN</td>\n",
              "      <td>NaN</td>\n",
              "      <td>Russian Federation</td>\n",
              "      <td>NaN</td>\n",
              "      <td>NaN</td>\n",
              "      <td>NaN</td>\n",
              "      <td>NaN</td>\n",
              "      <td>NaN</td>\n",
              "      <td>NaN</td>\n",
              "      <td>NaN</td>\n",
              "      <td>NaN</td>\n",
              "      <td>NaN</td>\n",
              "      <td>NaN</td>\n",
              "      <td>NaN</td>\n",
              "      <td>NaN</td>\n",
              "      <td>Objective-C;Python;Swift</td>\n",
              "      <td>Objective-C;Python;Swift</td>\n",
              "      <td>NaN</td>\n",
              "      <td>NaN</td>\n",
              "      <td>NaN</td>\n",
              "      <td>NaN</td>\n",
              "      <td>NaN</td>\n",
              "      <td>NaN</td>\n",
              "      <td>NaN</td>\n",
              "      <td>NaN</td>\n",
              "      <td>NaN</td>\n",
              "      <td>Once a decade</td>\n",
              "      <td>NaN</td>\n",
              "      <td>NaN</td>\n",
              "      <td>No</td>\n",
              "      <td>NaN</td>\n",
              "      <td>NaN</td>\n",
              "      <td>NaN</td>\n",
              "      <td>Stack Overflow (public Q&amp;A for anyone who codes)</td>\n",
              "      <td>NaN</td>\n",
              "      <td>Linux-based</td>\n",
              "      <td>NaN</td>\n",
              "      <td>NaN</td>\n",
              "      <td>NaN</td>\n",
              "      <td>NaN</td>\n",
              "      <td>NaN</td>\n",
              "      <td>Yes</td>\n",
              "      <td>Yes, somewhat</td>\n",
              "      <td>A few times per month or weekly</td>\n",
              "      <td>Daily or almost daily</td>\n",
              "      <td>Neither easy nor difficult</td>\n",
              "      <td>Appropriate in length</td>\n",
              "      <td>NaN</td>\n",
              "      <td>NaN</td>\n",
              "      <td>NaN</td>\n",
              "      <td>NaN</td>\n",
              "      <td>Somewhat more welcome now than last year</td>\n",
              "      <td>NaN</td>\n",
              "      <td>4</td>\n",
              "      <td>NaN</td>\n",
              "    </tr>\n",
              "  </tbody>\n",
              "</table>\n",
              "</div>"
            ],
            "text/plain": [
              "   Respondent                      MainBranch  ... YearsCode  YearsCodePro\n",
              "0           1  I am a developer by profession  ...        36            27\n",
              "1           2  I am a developer by profession  ...         7             4\n",
              "2           3     I code primarily as a hobby  ...         4           NaN\n",
              "\n",
              "[3 rows x 61 columns]"
            ]
          },
          "metadata": {},
          "execution_count": 4
        }
      ]
    },
    {
      "cell_type": "markdown",
      "metadata": {
        "id": "pIUTn-KNl-Ll"
      },
      "source": [
        "### Read all the columns of dataframe"
      ]
    },
    {
      "cell_type": "code",
      "metadata": {
        "id": "ThNXdatfl-Lp",
        "outputId": "0aca3781-938e-4575-b698-a88fd54fd2c9",
        "colab": {
          "base_uri": "https://localhost:8080/"
        }
      },
      "source": [
        "survey_raw_df.columns"
      ],
      "execution_count": 5,
      "outputs": [
        {
          "output_type": "execute_result",
          "data": {
            "text/plain": [
              "Index(['Respondent', 'MainBranch', 'Hobbyist', 'Age', 'Age1stCode', 'CompFreq',\n",
              "       'CompTotal', 'ConvertedComp', 'Country', 'CurrencyDesc',\n",
              "       'CurrencySymbol', 'DatabaseDesireNextYear', 'DatabaseWorkedWith',\n",
              "       'DevType', 'EdLevel', 'Employment', 'Ethnicity', 'Gender', 'JobFactors',\n",
              "       'JobSat', 'JobSeek', 'LanguageDesireNextYear', 'LanguageWorkedWith',\n",
              "       'MiscTechDesireNextYear', 'MiscTechWorkedWith',\n",
              "       'NEWCollabToolsDesireNextYear', 'NEWCollabToolsWorkedWith', 'NEWDevOps',\n",
              "       'NEWDevOpsImpt', 'NEWEdImpt', 'NEWJobHunt', 'NEWJobHuntResearch',\n",
              "       'NEWLearn', 'NEWOffTopic', 'NEWOnboardGood', 'NEWOtherComms',\n",
              "       'NEWOvertime', 'NEWPurchaseResearch', 'NEWPurpleLink', 'NEWSOSites',\n",
              "       'NEWStuck', 'OpSys', 'OrgSize', 'PlatformDesireNextYear',\n",
              "       'PlatformWorkedWith', 'PurchaseWhat', 'Sexuality', 'SOAccount',\n",
              "       'SOComm', 'SOPartFreq', 'SOVisitFreq', 'SurveyEase', 'SurveyLength',\n",
              "       'Trans', 'UndergradMajor', 'WebframeDesireNextYear',\n",
              "       'WebframeWorkedWith', 'WelcomeChange', 'WorkWeekHrs', 'YearsCode',\n",
              "       'YearsCodePro'],\n",
              "      dtype='object')"
            ]
          },
          "metadata": {},
          "execution_count": 5
        }
      ]
    },
    {
      "cell_type": "code",
      "metadata": {
        "id": "kkIm3ULMl-Ls",
        "outputId": "07c674d8-639a-4f22-9991-99b8eebfac0f",
        "colab": {
          "base_uri": "https://localhost:8080/",
          "height": 424
        }
      },
      "source": [
        "schema_fname = './survey_results_schema.csv'\n",
        "pd.read_csv(schema_fname)"
      ],
      "execution_count": 6,
      "outputs": [
        {
          "output_type": "execute_result",
          "data": {
            "text/html": [
              "<div>\n",
              "<style scoped>\n",
              "    .dataframe tbody tr th:only-of-type {\n",
              "        vertical-align: middle;\n",
              "    }\n",
              "\n",
              "    .dataframe tbody tr th {\n",
              "        vertical-align: top;\n",
              "    }\n",
              "\n",
              "    .dataframe thead th {\n",
              "        text-align: right;\n",
              "    }\n",
              "</style>\n",
              "<table border=\"1\" class=\"dataframe\">\n",
              "  <thead>\n",
              "    <tr style=\"text-align: right;\">\n",
              "      <th></th>\n",
              "      <th>Column</th>\n",
              "      <th>QuestionText</th>\n",
              "    </tr>\n",
              "  </thead>\n",
              "  <tbody>\n",
              "    <tr>\n",
              "      <th>0</th>\n",
              "      <td>Respondent</td>\n",
              "      <td>Randomized respondent ID number (not in order ...</td>\n",
              "    </tr>\n",
              "    <tr>\n",
              "      <th>1</th>\n",
              "      <td>MainBranch</td>\n",
              "      <td>Which of the following options best describes ...</td>\n",
              "    </tr>\n",
              "    <tr>\n",
              "      <th>2</th>\n",
              "      <td>Hobbyist</td>\n",
              "      <td>Do you code as a hobby?</td>\n",
              "    </tr>\n",
              "    <tr>\n",
              "      <th>3</th>\n",
              "      <td>Age</td>\n",
              "      <td>What is your age (in years)? If you prefer not...</td>\n",
              "    </tr>\n",
              "    <tr>\n",
              "      <th>4</th>\n",
              "      <td>Age1stCode</td>\n",
              "      <td>At what age did you write your first line of c...</td>\n",
              "    </tr>\n",
              "    <tr>\n",
              "      <th>...</th>\n",
              "      <td>...</td>\n",
              "      <td>...</td>\n",
              "    </tr>\n",
              "    <tr>\n",
              "      <th>56</th>\n",
              "      <td>WebframeWorkedWith</td>\n",
              "      <td>Which web frameworks have you done extensive d...</td>\n",
              "    </tr>\n",
              "    <tr>\n",
              "      <th>57</th>\n",
              "      <td>WelcomeChange</td>\n",
              "      <td>Compared to last year, how welcome do you feel...</td>\n",
              "    </tr>\n",
              "    <tr>\n",
              "      <th>58</th>\n",
              "      <td>WorkWeekHrs</td>\n",
              "      <td>On average, how many hours per week do you wor...</td>\n",
              "    </tr>\n",
              "    <tr>\n",
              "      <th>59</th>\n",
              "      <td>YearsCode</td>\n",
              "      <td>Including any education, how many years have y...</td>\n",
              "    </tr>\n",
              "    <tr>\n",
              "      <th>60</th>\n",
              "      <td>YearsCodePro</td>\n",
              "      <td>NOT including education, how many years have y...</td>\n",
              "    </tr>\n",
              "  </tbody>\n",
              "</table>\n",
              "<p>61 rows × 2 columns</p>\n",
              "</div>"
            ],
            "text/plain": [
              "                Column                                       QuestionText\n",
              "0           Respondent  Randomized respondent ID number (not in order ...\n",
              "1           MainBranch  Which of the following options best describes ...\n",
              "2             Hobbyist                            Do you code as a hobby?\n",
              "3                  Age  What is your age (in years)? If you prefer not...\n",
              "4           Age1stCode  At what age did you write your first line of c...\n",
              "..                 ...                                                ...\n",
              "56  WebframeWorkedWith  Which web frameworks have you done extensive d...\n",
              "57       WelcomeChange  Compared to last year, how welcome do you feel...\n",
              "58         WorkWeekHrs  On average, how many hours per week do you wor...\n",
              "59           YearsCode  Including any education, how many years have y...\n",
              "60        YearsCodePro  NOT including education, how many years have y...\n",
              "\n",
              "[61 rows x 2 columns]"
            ]
          },
          "metadata": {},
          "execution_count": 6
        }
      ]
    },
    {
      "cell_type": "markdown",
      "metadata": {
        "id": "9tg_uQpRl-Lv"
      },
      "source": [
        "Set the Column as index"
      ]
    },
    {
      "cell_type": "code",
      "metadata": {
        "id": "1PmFx_lLl-Lx"
      },
      "source": [
        "schema_raw = pd.read_csv(schema_fname, index_col='Column').QuestionText"
      ],
      "execution_count": 7,
      "outputs": []
    },
    {
      "cell_type": "code",
      "metadata": {
        "id": "9MHjRDYUl-Lz",
        "outputId": "370911fc-995a-4200-d51a-5634085f52e9",
        "colab": {
          "base_uri": "https://localhost:8080/"
        }
      },
      "source": [
        "schema_raw"
      ],
      "execution_count": 8,
      "outputs": [
        {
          "output_type": "execute_result",
          "data": {
            "text/plain": [
              "Column\n",
              "Respondent            Randomized respondent ID number (not in order ...\n",
              "MainBranch            Which of the following options best describes ...\n",
              "Hobbyist                                        Do you code as a hobby?\n",
              "Age                   What is your age (in years)? If you prefer not...\n",
              "Age1stCode            At what age did you write your first line of c...\n",
              "                                            ...                        \n",
              "WebframeWorkedWith    Which web frameworks have you done extensive d...\n",
              "WelcomeChange         Compared to last year, how welcome do you feel...\n",
              "WorkWeekHrs           On average, how many hours per week do you wor...\n",
              "YearsCode             Including any education, how many years have y...\n",
              "YearsCodePro          NOT including education, how many years have y...\n",
              "Name: QuestionText, Length: 61, dtype: object"
            ]
          },
          "metadata": {},
          "execution_count": 8
        }
      ]
    },
    {
      "cell_type": "markdown",
      "metadata": {
        "id": "XQNaaT3ll-L1"
      },
      "source": [
        "### As we set the column as index we get retrieve text with our index values.."
      ]
    },
    {
      "cell_type": "code",
      "metadata": {
        "id": "a_PwJHeHl-L5",
        "outputId": "05c7cabe-6e8e-4282-e713-55dd7eba9ca9",
        "colab": {
          "base_uri": "https://localhost:8080/",
          "height": 35
        }
      },
      "source": [
        "schema_raw['Hobbyist']"
      ],
      "execution_count": 9,
      "outputs": [
        {
          "output_type": "execute_result",
          "data": {
            "application/vnd.google.colaboratory.intrinsic+json": {
              "type": "string"
            },
            "text/plain": [
              "'Do you code as a hobby?'"
            ]
          },
          "metadata": {},
          "execution_count": 9
        }
      ]
    },
    {
      "cell_type": "markdown",
      "metadata": {
        "id": "HQZUKLCUoSh7"
      },
      "source": [
        "We will now select columns we find relevant to analyze more..."
      ]
    },
    {
      "cell_type": "code",
      "metadata": {
        "id": "JUujklxBl-L7"
      },
      "source": [
        "selected_columns = [\n",
        "    # Demographics\n",
        "    'Country',\n",
        "    'Age',\n",
        "    'Gender',\n",
        "    'EdLevel',\n",
        "\n",
        "    # Programming experience\n",
        "    'Hobbyist',\n",
        "\n",
        "    # Employment\n",
        "    'Employment',\n",
        "    'DevType',\n",
        "\n",
        "]"
      ],
      "execution_count": 11,
      "outputs": []
    },
    {
      "cell_type": "code",
      "metadata": {
        "id": "oORJpsHKl-L-"
      },
      "source": [
        "survey_df = survey_raw_df[selected_columns].copy()  #make a copy of your dataframe"
      ],
      "execution_count": 12,
      "outputs": []
    },
    {
      "cell_type": "code",
      "metadata": {
        "id": "va8jC_s0l-L_"
      },
      "source": [
        "schema = schema_raw[selected_columns] #get schema of only our selected columns"
      ],
      "execution_count": 13,
      "outputs": []
    },
    {
      "cell_type": "code",
      "metadata": {
        "id": "IaellQqxl-MA",
        "outputId": "1a9adf48-18a0-4324-afbe-8e73b1799061"
      },
      "source": [
        "survey_df.shape  #see the shape of our dataframe"
      ],
      "execution_count": null,
      "outputs": [
        {
          "data": {
            "text/plain": [
              "(64461, 7)"
            ]
          },
          "execution_count": 14,
          "metadata": {},
          "output_type": "execute_result"
        }
      ]
    },
    {
      "cell_type": "code",
      "metadata": {
        "id": "kB33Yy4gl-MC",
        "outputId": "2e2feb85-2932-469b-c9de-02149756c927",
        "colab": {
          "base_uri": "https://localhost:8080/"
        }
      },
      "source": [
        "survey_df.info()  #See the datatypes of our columns selected"
      ],
      "execution_count": 14,
      "outputs": [
        {
          "output_type": "stream",
          "name": "stdout",
          "text": [
            "<class 'pandas.core.frame.DataFrame'>\n",
            "RangeIndex: 5573 entries, 0 to 5572\n",
            "Data columns (total 7 columns):\n",
            " #   Column      Non-Null Count  Dtype  \n",
            "---  ------      --------------  -----  \n",
            " 0   Country     5573 non-null   object \n",
            " 1   Age         4888 non-null   float64\n",
            " 2   Gender      5311 non-null   object \n",
            " 3   EdLevel     5461 non-null   object \n",
            " 4   Hobbyist    5573 non-null   object \n",
            " 5   Employment  5551 non-null   object \n",
            " 6   DevType     4839 non-null   object \n",
            "dtypes: float64(1), object(6)\n",
            "memory usage: 304.9+ KB\n"
          ]
        }
      ]
    },
    {
      "cell_type": "code",
      "metadata": {
        "id": "NLH-qkgJl-MD",
        "outputId": "61f26897-bb47-47a7-a1b5-9910536c43a8",
        "colab": {
          "base_uri": "https://localhost:8080/",
          "height": 300
        }
      },
      "source": [
        "survey_df.describe() #get more statistical info of our data"
      ],
      "execution_count": 15,
      "outputs": [
        {
          "output_type": "execute_result",
          "data": {
            "text/html": [
              "<div>\n",
              "<style scoped>\n",
              "    .dataframe tbody tr th:only-of-type {\n",
              "        vertical-align: middle;\n",
              "    }\n",
              "\n",
              "    .dataframe tbody tr th {\n",
              "        vertical-align: top;\n",
              "    }\n",
              "\n",
              "    .dataframe thead th {\n",
              "        text-align: right;\n",
              "    }\n",
              "</style>\n",
              "<table border=\"1\" class=\"dataframe\">\n",
              "  <thead>\n",
              "    <tr style=\"text-align: right;\">\n",
              "      <th></th>\n",
              "      <th>Age</th>\n",
              "    </tr>\n",
              "  </thead>\n",
              "  <tbody>\n",
              "    <tr>\n",
              "      <th>count</th>\n",
              "      <td>4888.000000</td>\n",
              "    </tr>\n",
              "    <tr>\n",
              "      <th>mean</th>\n",
              "      <td>32.841039</td>\n",
              "    </tr>\n",
              "    <tr>\n",
              "      <th>std</th>\n",
              "      <td>10.566974</td>\n",
              "    </tr>\n",
              "    <tr>\n",
              "      <th>min</th>\n",
              "      <td>11.000000</td>\n",
              "    </tr>\n",
              "    <tr>\n",
              "      <th>25%</th>\n",
              "      <td>25.000000</td>\n",
              "    </tr>\n",
              "    <tr>\n",
              "      <th>50%</th>\n",
              "      <td>31.000000</td>\n",
              "    </tr>\n",
              "    <tr>\n",
              "      <th>75%</th>\n",
              "      <td>38.000000</td>\n",
              "    </tr>\n",
              "    <tr>\n",
              "      <th>max</th>\n",
              "      <td>99.000000</td>\n",
              "    </tr>\n",
              "  </tbody>\n",
              "</table>\n",
              "</div>"
            ],
            "text/plain": [
              "               Age\n",
              "count  4888.000000\n",
              "mean     32.841039\n",
              "std      10.566974\n",
              "min      11.000000\n",
              "25%      25.000000\n",
              "50%      31.000000\n",
              "75%      38.000000\n",
              "max      99.000000"
            ]
          },
          "metadata": {},
          "execution_count": 15
        }
      ]
    },
    {
      "cell_type": "markdown",
      "metadata": {
        "id": "yWt7LoPuo_xb"
      },
      "source": [
        "We will now drop columns where we see Age is less than 10 or more than 100 "
      ]
    },
    {
      "cell_type": "code",
      "metadata": {
        "id": "HglMtT3Sl-MF"
      },
      "source": [
        "survey_df.drop(survey_df[survey_df.Age < 10].index, inplace=True)\n",
        "survey_df.drop(survey_df[survey_df.Age > 100].index, inplace=True)"
      ],
      "execution_count": null,
      "outputs": []
    },
    {
      "cell_type": "markdown",
      "metadata": {
        "id": "Z3UogRu1pHib"
      },
      "source": [
        "## Now let us start analyzing in detail -"
      ]
    },
    {
      "cell_type": "code",
      "metadata": {
        "id": "AfHEc5zFl-MG",
        "outputId": "137536a6-a89b-448f-a0c8-e187bf734f40",
        "colab": {
          "base_uri": "https://localhost:8080/"
        }
      },
      "source": [
        "survey_df['Gender'].value_counts()"
      ],
      "execution_count": 16,
      "outputs": [
        {
          "output_type": "execute_result",
          "data": {
            "text/plain": [
              "Man                                                            4913\n",
              "Woman                                                           337\n",
              "Non-binary, genderqueer, or gender non-conforming                37\n",
              "Woman;Non-binary, genderqueer, or gender non-conforming          12\n",
              "Man;Non-binary, genderqueer, or gender non-conforming             7\n",
              "Woman;Man                                                         4\n",
              "Woman;Man;Non-binary, genderqueer, or gender non-conforming       1\n",
              "Name: Gender, dtype: int64"
            ]
          },
          "metadata": {},
          "execution_count": 16
        }
      ]
    },
    {
      "cell_type": "markdown",
      "metadata": {
        "id": "fZMLTOG9pk1r"
      },
      "source": [
        "Import NumPy for faster Numerical Computing\n"
      ]
    },
    {
      "cell_type": "code",
      "metadata": {
        "id": "yb2TBt0ml-MJ"
      },
      "source": [
        "import numpy as np\n"
      ],
      "execution_count": 17,
      "outputs": []
    },
    {
      "cell_type": "markdown",
      "metadata": {
        "id": "s6vv_R_mpsIb"
      },
      "source": [
        "# Data Cleaning "
      ]
    },
    {
      "cell_type": "code",
      "metadata": {
        "id": "KEgvbCb7l-ML"
      },
      "source": [
        "survey_df.where(~(survey_df.Gender.str.contains(';',na=False)),np.nan,inplace=True) # Select gender where only one option is selected for simplicity"
      ],
      "execution_count": 19,
      "outputs": []
    },
    {
      "cell_type": "code",
      "metadata": {
        "id": "yN76N4TAl-MM",
        "outputId": "0191b410-488b-4768-a934-0b0a99979978",
        "colab": {
          "base_uri": "https://localhost:8080/",
          "height": 363
        }
      },
      "source": [
        "survey_df.sample(10)  #Get a random sample to know your data"
      ],
      "execution_count": 21,
      "outputs": [
        {
          "output_type": "execute_result",
          "data": {
            "text/html": [
              "<div>\n",
              "<style scoped>\n",
              "    .dataframe tbody tr th:only-of-type {\n",
              "        vertical-align: middle;\n",
              "    }\n",
              "\n",
              "    .dataframe tbody tr th {\n",
              "        vertical-align: top;\n",
              "    }\n",
              "\n",
              "    .dataframe thead th {\n",
              "        text-align: right;\n",
              "    }\n",
              "</style>\n",
              "<table border=\"1\" class=\"dataframe\">\n",
              "  <thead>\n",
              "    <tr style=\"text-align: right;\">\n",
              "      <th></th>\n",
              "      <th>Country</th>\n",
              "      <th>Age</th>\n",
              "      <th>Gender</th>\n",
              "      <th>EdLevel</th>\n",
              "      <th>Hobbyist</th>\n",
              "      <th>Employment</th>\n",
              "      <th>DevType</th>\n",
              "    </tr>\n",
              "  </thead>\n",
              "  <tbody>\n",
              "    <tr>\n",
              "      <th>591</th>\n",
              "      <td>United States</td>\n",
              "      <td>38.0</td>\n",
              "      <td>Man</td>\n",
              "      <td>Bachelor’s degree (B.A., B.S., B.Eng., etc.)</td>\n",
              "      <td>Yes</td>\n",
              "      <td>Employed full-time</td>\n",
              "      <td>Database administrator;Developer, back-end;Dev...</td>\n",
              "    </tr>\n",
              "    <tr>\n",
              "      <th>2256</th>\n",
              "      <td>United States</td>\n",
              "      <td>35.0</td>\n",
              "      <td>Man</td>\n",
              "      <td>Master’s degree (M.A., M.S., M.Eng., MBA, etc.)</td>\n",
              "      <td>No</td>\n",
              "      <td>Employed full-time</td>\n",
              "      <td>Data or business analyst;Designer;Developer, b...</td>\n",
              "    </tr>\n",
              "    <tr>\n",
              "      <th>1164</th>\n",
              "      <td>United States</td>\n",
              "      <td>40.0</td>\n",
              "      <td>Man</td>\n",
              "      <td>Bachelor’s degree (B.A., B.S., B.Eng., etc.)</td>\n",
              "      <td>Yes</td>\n",
              "      <td>Employed full-time</td>\n",
              "      <td>Data or business analyst;Data scientist or mac...</td>\n",
              "    </tr>\n",
              "    <tr>\n",
              "      <th>2822</th>\n",
              "      <td>Mexico</td>\n",
              "      <td>44.0</td>\n",
              "      <td>Man</td>\n",
              "      <td>Bachelor’s degree (B.A., B.S., B.Eng., etc.)</td>\n",
              "      <td>No</td>\n",
              "      <td>Employed full-time</td>\n",
              "      <td>Developer, back-end</td>\n",
              "    </tr>\n",
              "    <tr>\n",
              "      <th>4032</th>\n",
              "      <td>Germany</td>\n",
              "      <td>41.0</td>\n",
              "      <td>Man</td>\n",
              "      <td>Secondary school (e.g. American high school, G...</td>\n",
              "      <td>Yes</td>\n",
              "      <td>Independent contractor, freelancer, or self-em...</td>\n",
              "      <td>Developer, full-stack</td>\n",
              "    </tr>\n",
              "    <tr>\n",
              "      <th>4523</th>\n",
              "      <td>Germany</td>\n",
              "      <td>NaN</td>\n",
              "      <td>Man</td>\n",
              "      <td>Master’s degree (M.A., M.S., M.Eng., MBA, etc.)</td>\n",
              "      <td>Yes</td>\n",
              "      <td>Employed full-time</td>\n",
              "      <td>Developer, back-end;DevOps specialist;Engineer...</td>\n",
              "    </tr>\n",
              "    <tr>\n",
              "      <th>3912</th>\n",
              "      <td>Belarus</td>\n",
              "      <td>27.0</td>\n",
              "      <td>Man</td>\n",
              "      <td>Associate degree (A.A., A.S., etc.)</td>\n",
              "      <td>No</td>\n",
              "      <td>Employed full-time</td>\n",
              "      <td>Developer, full-stack</td>\n",
              "    </tr>\n",
              "    <tr>\n",
              "      <th>5468</th>\n",
              "      <td>United States</td>\n",
              "      <td>38.0</td>\n",
              "      <td>Man</td>\n",
              "      <td>Master’s degree (M.A., M.S., M.Eng., MBA, etc.)</td>\n",
              "      <td>Yes</td>\n",
              "      <td>Employed full-time</td>\n",
              "      <td>Developer, full-stack</td>\n",
              "    </tr>\n",
              "    <tr>\n",
              "      <th>2738</th>\n",
              "      <td>Belarus</td>\n",
              "      <td>19.0</td>\n",
              "      <td>Man</td>\n",
              "      <td>Bachelor’s degree (B.A., B.S., B.Eng., etc.)</td>\n",
              "      <td>Yes</td>\n",
              "      <td>Not employed, but looking for work</td>\n",
              "      <td>Designer;Developer, back-end;Developer, front-...</td>\n",
              "    </tr>\n",
              "    <tr>\n",
              "      <th>4698</th>\n",
              "      <td>Canada</td>\n",
              "      <td>37.0</td>\n",
              "      <td>Man</td>\n",
              "      <td>Master’s degree (M.A., M.S., M.Eng., MBA, etc.)</td>\n",
              "      <td>Yes</td>\n",
              "      <td>Employed full-time</td>\n",
              "      <td>Developer, back-end;Developer, full-stack</td>\n",
              "    </tr>\n",
              "  </tbody>\n",
              "</table>\n",
              "</div>"
            ],
            "text/plain": [
              "            Country  ...                                            DevType\n",
              "591   United States  ...  Database administrator;Developer, back-end;Dev...\n",
              "2256  United States  ...  Data or business analyst;Designer;Developer, b...\n",
              "1164  United States  ...  Data or business analyst;Data scientist or mac...\n",
              "2822         Mexico  ...                                Developer, back-end\n",
              "4032        Germany  ...                              Developer, full-stack\n",
              "4523        Germany  ...  Developer, back-end;DevOps specialist;Engineer...\n",
              "3912        Belarus  ...                              Developer, full-stack\n",
              "5468  United States  ...                              Developer, full-stack\n",
              "2738        Belarus  ...  Designer;Developer, back-end;Developer, front-...\n",
              "4698         Canada  ...          Developer, back-end;Developer, full-stack\n",
              "\n",
              "[10 rows x 7 columns]"
            ]
          },
          "metadata": {},
          "execution_count": 21
        }
      ]
    },
    {
      "cell_type": "code",
      "metadata": {
        "id": "6e7q2tool-MO",
        "outputId": "444e2c22-0b03-40b0-e9b6-1c13bb621372",
        "colab": {
          "base_uri": "https://localhost:8080/"
        }
      },
      "source": [
        "gender_counts = survey_df.Gender.value_counts()\n",
        "gender_counts"
      ],
      "execution_count": 23,
      "outputs": [
        {
          "output_type": "execute_result",
          "data": {
            "text/plain": [
              "Man                                                  4913\n",
              "Woman                                                 337\n",
              "Non-binary, genderqueer, or gender non-conforming      37\n",
              "Name: Gender, dtype: int64"
            ]
          },
          "metadata": {},
          "execution_count": 23
        }
      ]
    },
    {
      "cell_type": "markdown",
      "metadata": {
        "id": "2XNVTci9l-MP"
      },
      "source": [
        "### Compare survey responses and preferrences across genders , how do the relative education levels differ across genders"
      ]
    },
    {
      "cell_type": "code",
      "metadata": {
        "id": "-KS0NJJel-MQ"
      },
      "source": [
        "ed_for_man = survey_df['Employment'].where(survey_df.Gender== 'Man').sort_values(ascending = False)"
      ],
      "execution_count": 24,
      "outputs": []
    },
    {
      "cell_type": "markdown",
      "metadata": {
        "id": "9yrSbjlnl-MQ"
      },
      "source": [
        "### Get the value count for the type of employment for Men\n"
      ]
    },
    {
      "cell_type": "code",
      "metadata": {
        "id": "wGxV3E7Ul-MR",
        "outputId": "25b2bcd7-3e2f-4c2d-dc90-7c3e3f39faec"
      },
      "source": [
        "ed_for_man.value_counts(dropna = False)"
      ],
      "execution_count": null,
      "outputs": [
        {
          "data": {
            "text/plain": [
              "Employed full-time                                      32660\n",
              "NaN                                                     18601\n",
              "Student                                                  5499\n",
              "Independent contractor, freelancer, or self-employed     4235\n",
              "Not employed, but looking for work                       1616\n",
              "Employed part-time                                       1474\n",
              "Not employed, and not looking for work                    205\n",
              "Retired                                                   161\n",
              "Name: Employment, dtype: int64"
            ]
          },
          "execution_count": 26,
          "metadata": {},
          "output_type": "execute_result"
        }
      ]
    },
    {
      "cell_type": "code",
      "metadata": {
        "id": "jqVPMh_il-MS",
        "outputId": "87288277-eca5-431c-dc4c-e7ae6189994a",
        "colab": {
          "base_uri": "https://localhost:8080/"
        }
      },
      "source": [
        "ed_for_man.unique()"
      ],
      "execution_count": 25,
      "outputs": [
        {
          "output_type": "execute_result",
          "data": {
            "text/plain": [
              "array(['Student', 'Retired', 'Not employed, but looking for work',\n",
              "       'Not employed, and not looking for work',\n",
              "       'Independent contractor, freelancer, or self-employed',\n",
              "       'Employed part-time', 'Employed full-time', nan], dtype=object)"
            ]
          },
          "metadata": {},
          "execution_count": 25
        }
      ]
    },
    {
      "cell_type": "markdown",
      "metadata": {
        "id": "Phd6rjbFl-MT"
      },
      "source": [
        "### Create a dataframe where respondent are Women and select the Employment type"
      ]
    },
    {
      "cell_type": "code",
      "metadata": {
        "id": "7_uvdpnul-MU"
      },
      "source": [
        "ed_for_Woman1 = survey_df['Employment'].where(survey_df.Gender== 'Woman').sort_values(ascending = False)\n",
        "#ed_for_Woman1"
      ],
      "execution_count": 26,
      "outputs": []
    },
    {
      "cell_type": "code",
      "metadata": {
        "id": "sYGgAE1Sl-MV",
        "outputId": "8db80325-a090-4ec5-fa38-62493cecba66",
        "colab": {
          "base_uri": "https://localhost:8080/"
        }
      },
      "source": [
        "ed_for_Woman1.value_counts(dropna=False)"
      ],
      "execution_count": 27,
      "outputs": [
        {
          "output_type": "execute_result",
          "data": {
            "text/plain": [
              "NaN                                                     5237\n",
              "Employed full-time                                       250\n",
              "Student                                                   38\n",
              "Independent contractor, freelancer, or self-employed      19\n",
              "Not employed, but looking for work                        13\n",
              "Employed part-time                                        13\n",
              "Retired                                                    3\n",
              "Name: Employment, dtype: int64"
            ]
          },
          "metadata": {},
          "execution_count": 27
        }
      ]
    },
    {
      "cell_type": "markdown",
      "metadata": {
        "id": "I7Wk3icPl-MW"
      },
      "source": [
        "## Lets try to compare Employment distribution in Men and Women."
      ]
    },
    {
      "cell_type": "code",
      "metadata": {
        "id": "dqQzixXal-MX",
        "outputId": "804ad17c-db9d-4129-ba78-cf6c4552f432",
        "colab": {
          "base_uri": "https://localhost:8080/",
          "height": 713
        }
      },
      "source": [
        "plt.figure(figsize=(10,5))\n",
        "g = sns.countplot(x=ed_for_man,hue=survey_df.Hobbyist)\n",
        "g.set_title(\"Employment vise distribution for Mens\", fontsize=20)\n",
        "g.set_xlabel(\"Employment Type\", fontsize=7)\n",
        "g.set_ylabel(\"Count Distribuition in Thousands\", fontsize=16)\n",
        "g.set_xticklabels(g.get_xticklabels(),rotation=90)\n",
        "\n",
        "plt.show();"
      ],
      "execution_count": 75,
      "outputs": [
        {
          "output_type": "display_data",
          "data": {
            "image/png": "[encoded data removed]",
            "text/plain": [
              "<Figure size 720x360 with 1 Axes>"
            ]
          },
          "metadata": {
            "needs_background": "light"
          }
        }
      ]
    },
    {
      "cell_type": "code",
      "metadata": {
        "id": "-UTaFd_PusNH",
        "outputId": "3eab6cfb-0013-48de-f0b0-b969d5823f80",
        "colab": {
          "base_uri": "https://localhost:8080/",
          "height": 713
        }
      },
      "source": [
        "plt.figure(figsize=(10,5))\n",
        "\n",
        "g = sns.countplot(x=ed_for_Woman1,hue=survey_df.Hobbyist)\n",
        "g.set_title(\"Employment vise distribution for Womens\", fontsize=20)\n",
        "g.set_xlabel(\"Employment Type\", fontsize=7)\n",
        "g.set_ylabel(\"Count Distribuition in Thousands\", fontsize=16)\n",
        "g.set_xticklabels(g.get_xticklabels(),rotation=90);"
      ],
      "execution_count": 76,
      "outputs": [
        {
          "output_type": "display_data",
          "data": {
            "image/png": "[encoded data removed]",
            "text/plain": [
              "<Figure size 720x360 with 1 Axes>"
            ]
          },
          "metadata": {
            "needs_background": "light"
          }
        }
      ]
    },
    {
      "cell_type": "markdown",
      "metadata": {
        "id": "7tdpA_qZvHte"
      },
      "source": [
        "It is clear with the above graphs that most of the respondents were Full time Employed"
      ]
    },
    {
      "cell_type": "markdown",
      "metadata": {
        "id": "cCDB_12xvi7m"
      },
      "source": [
        "## Let us create a new column Employment Type with values as Enthusiast , Professional and other as below."
      ]
    },
    {
      "cell_type": "code",
      "metadata": {
        "id": "vE5GsFGal-Ma"
      },
      "source": [
        "survey_df['EmploymentType'] =survey_df.Employment.str.replace('Student','Enthusiast')"
      ],
      "execution_count": 87,
      "outputs": []
    },
    {
      "cell_type": "code",
      "metadata": {
        "id": "P8julljOl-Mb"
      },
      "source": [
        "survey_df['EmploymentType'] \n",
        "\n",
        "survey_df['EmploymentType'] = survey_df['EmploymentType'].replace(['Student','Not employed, but looking for work'],'Enthusiast')"
      ],
      "execution_count": 88,
      "outputs": []
    },
    {
      "cell_type": "code",
      "metadata": {
        "id": "s8Z_UhiEl-Mc"
      },
      "source": [
        "survey_df['EmploymentType'] = survey_df['EmploymentType'].replace(['Employed full-time','Employed part-time','Independent contractor, freelancer, or self-employed'],'Professional')"
      ],
      "execution_count": 89,
      "outputs": []
    },
    {
      "cell_type": "code",
      "metadata": {
        "id": "mg45V5DYl-Md"
      },
      "source": [
        "survey_df['EmploymentType'] = survey_df['EmploymentType'].replace(['Not employed, and not looking for work','Retired'],'Other')"
      ],
      "execution_count": 90,
      "outputs": []
    },
    {
      "cell_type": "code",
      "metadata": {
        "id": "XP9SG2FPl-Me"
      },
      "source": [
        "df = survey_df['EmploymentType'].value_counts(dropna=False)"
      ],
      "execution_count": 91,
      "outputs": []
    },
    {
      "cell_type": "code",
      "metadata": {
        "id": "_7i72a8Wl-Me",
        "outputId": "846fd1e0-3cbd-4802-9d1a-970b495dfee5",
        "colab": {
          "base_uri": "https://localhost:8080/"
        }
      },
      "source": [
        "df"
      ],
      "execution_count": 92,
      "outputs": [
        {
          "output_type": "execute_result",
          "data": {
            "text/plain": [
              "Professional    4731\n",
              "Enthusiast       716\n",
              "Other             80\n",
              "NaN               46\n",
              "Name: EmploymentType, dtype: int64"
            ]
          },
          "metadata": {},
          "execution_count": 92
        }
      ]
    },
    {
      "cell_type": "markdown",
      "metadata": {
        "id": "d0wiibYbl-Mf"
      },
      "source": [
        "### We have got value_counts for all three categories\n"
      ]
    },
    {
      "cell_type": "code",
      "metadata": {
        "id": "hlsRE22Fl-Mf",
        "outputId": "cbb87032-20d2-4673-ea7a-1592f164cc3c",
        "colab": {
          "base_uri": "https://localhost:8080/"
        }
      },
      "source": [
        "df1 = survey_df.Hobbyist.value_counts(dropna=False)\n",
        "df1"
      ],
      "execution_count": 93,
      "outputs": [
        {
          "output_type": "execute_result",
          "data": {
            "text/plain": [
              "Yes    4423\n",
              "No     1126\n",
              "NaN      24\n",
              "Name: Hobbyist, dtype: int64"
            ]
          },
          "metadata": {},
          "execution_count": 93
        }
      ]
    },
    {
      "cell_type": "markdown",
      "metadata": {
        "id": "1FGQBvtxl-Mg"
      },
      "source": [
        "## Lets try to visualize the respodents on basis of their Employment type"
      ]
    },
    {
      "cell_type": "code",
      "metadata": {
        "id": "2vbDoEudl-Mg",
        "outputId": "11894a51-0326-434b-b223-d58a7b4ce613",
        "colab": {
          "base_uri": "https://localhost:8080/",
          "height": 487
        }
      },
      "source": [
        "plt.figure(figsize=(12, 6));\n",
        "plt.title(schema.Employment);\n",
        "plt.xlabel('Employment');\n",
        "plt.ylabel('Number of respondents');\n",
        "\n",
        "g = sns.barplot(y=df,x=df.index);\n",
        "g.set_xticklabels(g.get_xticklabels(),rotation=90);"
      ],
      "execution_count": 94,
      "outputs": [
        {
          "output_type": "display_data",
          "data": {
            "image/png": "[encoded data removed]",
            "text/plain": [
              "<Figure size 864x432 with 1 Axes>"
            ]
          },
          "metadata": {
            "needs_background": "light"
          }
        }
      ]
    },
    {
      "cell_type": "markdown",
      "metadata": {
        "id": "xzanzynql-Mh"
      },
      "source": [
        "## Lets Visualize Employment type with respective to their Ages"
      ]
    },
    {
      "cell_type": "code",
      "metadata": {
        "id": "l87Mv_z9l-Mh",
        "outputId": "848cb4d2-281b-42f5-ddb3-ba3bec0300c3",
        "colab": {
          "base_uri": "https://localhost:8080/",
          "height": 342
        }
      },
      "source": [
        "sns.barplot(x=survey_df.EmploymentType,y=survey_df.Age);"
      ],
      "execution_count": 95,
      "outputs": [
        {
          "output_type": "display_data",
          "data": {
            "image/png": "[encoded data removed]",
            "text/plain": [
              "<Figure size 648x360 with 1 Axes>"
            ]
          },
          "metadata": {
            "needs_background": "light"
          }
        }
      ]
    },
    {
      "cell_type": "markdown",
      "metadata": {
        "id": "X_uXDyWTl-Mi"
      },
      "source": [
        "## Combine the above visualization with Gender to get a better understanding"
      ]
    },
    {
      "cell_type": "code",
      "metadata": {
        "id": "j4FwcV6tl-Mi",
        "outputId": "0865b16f-13d8-42e8-a06a-ea6adc1d674d",
        "colab": {
          "base_uri": "https://localhost:8080/",
          "height": 342
        }
      },
      "source": [
        "sns.barplot(x=survey_df.EmploymentType,y=survey_df.Age,hue=survey_df.Gender);"
      ],
      "execution_count": 96,
      "outputs": [
        {
          "output_type": "display_data",
          "data": {
            "image/png": "[encoded data removed]",
            "text/plain": [
              "<Figure size 648x360 with 1 Axes>"
            ]
          },
          "metadata": {
            "needs_background": "light"
          }
        }
      ]
    },
    {
      "cell_type": "markdown",
      "metadata": {
        "id": "bAPV2TDZxhPm"
      },
      "source": [
        "Now let us try to analyze considering the "
      ]
    },
    {
      "cell_type": "markdown",
      "metadata": {
        "id": "cpb4NU9yl-Mj"
      },
      "source": [
        "### The below helper function splits the mulivalued column."
      ]
    },
    {
      "cell_type": "code",
      "metadata": {
        "id": "ACpGhinUl-Mj"
      },
      "source": [
        "def split_multicolumn(col_series):\n",
        "    result_df = col_series.to_frame()\n",
        "    options = []\n",
        "    # Iterate over the column\n",
        "    for idx, value  in col_series[col_series.notnull()].iteritems():\n",
        "        # Break each value into list of options\n",
        "        for option in value.split(';'):\n",
        "            # Add the option as a column to result\n",
        "            if not option in result_df.columns:\n",
        "                options.append(option)\n",
        "                result_df[option] = False\n",
        "            # Mark the value in the option column as True\n",
        "            result_df.at[idx, option] = True\n",
        "    return result_df[options]"
      ],
      "execution_count": 104,
      "outputs": []
    },
    {
      "cell_type": "code",
      "metadata": {
        "id": "z0TbwPL3l-Mk"
      },
      "source": [
        "dev_type_df = split_multicolumn(survey_df.DevType) # split the values in columns and set True and false respectively"
      ],
      "execution_count": 107,
      "outputs": []
    },
    {
      "cell_type": "code",
      "metadata": {
        "id": "vCLQrP6ol-Mk",
        "outputId": "3283cc95-3cce-477a-90bf-f7f673a8bd59",
        "colab": {
          "base_uri": "https://localhost:8080/",
          "height": 232
        }
      },
      "source": [
        "dev_type_df.head(3)"
      ],
      "execution_count": 108,
      "outputs": [
        {
          "output_type": "execute_result",
          "data": {
            "text/html": [
              "<div>\n",
              "<style scoped>\n",
              "    .dataframe tbody tr th:only-of-type {\n",
              "        vertical-align: middle;\n",
              "    }\n",
              "\n",
              "    .dataframe tbody tr th {\n",
              "        vertical-align: top;\n",
              "    }\n",
              "\n",
              "    .dataframe thead th {\n",
              "        text-align: right;\n",
              "    }\n",
              "</style>\n",
              "<table border=\"1\" class=\"dataframe\">\n",
              "  <thead>\n",
              "    <tr style=\"text-align: right;\">\n",
              "      <th></th>\n",
              "      <th>Developer, desktop or enterprise applications</th>\n",
              "      <th>Developer, full-stack</th>\n",
              "      <th>Developer, mobile</th>\n",
              "      <th>Designer</th>\n",
              "      <th>Developer, front-end</th>\n",
              "      <th>Developer, back-end</th>\n",
              "      <th>Developer, QA or test</th>\n",
              "      <th>DevOps specialist</th>\n",
              "      <th>Developer, game or graphics</th>\n",
              "      <th>Database administrator</th>\n",
              "      <th>Developer, embedded applications or devices</th>\n",
              "      <th>Engineer, data</th>\n",
              "      <th>Educator</th>\n",
              "      <th>System administrator</th>\n",
              "      <th>Engineering manager</th>\n",
              "      <th>Product manager</th>\n",
              "      <th>Data or business analyst</th>\n",
              "      <th>Academic researcher</th>\n",
              "      <th>Data scientist or machine learning specialist</th>\n",
              "      <th>Scientist</th>\n",
              "      <th>Senior executive/VP</th>\n",
              "      <th>Engineer, site reliability</th>\n",
              "      <th>Marketing or sales professional</th>\n",
              "    </tr>\n",
              "  </thead>\n",
              "  <tbody>\n",
              "    <tr>\n",
              "      <th>0</th>\n",
              "      <td>True</td>\n",
              "      <td>True</td>\n",
              "      <td>False</td>\n",
              "      <td>False</td>\n",
              "      <td>False</td>\n",
              "      <td>False</td>\n",
              "      <td>False</td>\n",
              "      <td>False</td>\n",
              "      <td>False</td>\n",
              "      <td>False</td>\n",
              "      <td>False</td>\n",
              "      <td>False</td>\n",
              "      <td>False</td>\n",
              "      <td>False</td>\n",
              "      <td>False</td>\n",
              "      <td>False</td>\n",
              "      <td>False</td>\n",
              "      <td>False</td>\n",
              "      <td>False</td>\n",
              "      <td>False</td>\n",
              "      <td>False</td>\n",
              "      <td>False</td>\n",
              "      <td>False</td>\n",
              "    </tr>\n",
              "    <tr>\n",
              "      <th>1</th>\n",
              "      <td>False</td>\n",
              "      <td>True</td>\n",
              "      <td>True</td>\n",
              "      <td>False</td>\n",
              "      <td>False</td>\n",
              "      <td>False</td>\n",
              "      <td>False</td>\n",
              "      <td>False</td>\n",
              "      <td>False</td>\n",
              "      <td>False</td>\n",
              "      <td>False</td>\n",
              "      <td>False</td>\n",
              "      <td>False</td>\n",
              "      <td>False</td>\n",
              "      <td>False</td>\n",
              "      <td>False</td>\n",
              "      <td>False</td>\n",
              "      <td>False</td>\n",
              "      <td>False</td>\n",
              "      <td>False</td>\n",
              "      <td>False</td>\n",
              "      <td>False</td>\n",
              "      <td>False</td>\n",
              "    </tr>\n",
              "    <tr>\n",
              "      <th>2</th>\n",
              "      <td>False</td>\n",
              "      <td>False</td>\n",
              "      <td>False</td>\n",
              "      <td>False</td>\n",
              "      <td>False</td>\n",
              "      <td>False</td>\n",
              "      <td>False</td>\n",
              "      <td>False</td>\n",
              "      <td>False</td>\n",
              "      <td>False</td>\n",
              "      <td>False</td>\n",
              "      <td>False</td>\n",
              "      <td>False</td>\n",
              "      <td>False</td>\n",
              "      <td>False</td>\n",
              "      <td>False</td>\n",
              "      <td>False</td>\n",
              "      <td>False</td>\n",
              "      <td>False</td>\n",
              "      <td>False</td>\n",
              "      <td>False</td>\n",
              "      <td>False</td>\n",
              "      <td>False</td>\n",
              "    </tr>\n",
              "  </tbody>\n",
              "</table>\n",
              "</div>"
            ],
            "text/plain": [
              "   Developer, desktop or enterprise applications  ...  Marketing or sales professional\n",
              "0                                           True  ...                            False\n",
              "1                                          False  ...                            False\n",
              "2                                          False  ...                            False\n",
              "\n",
              "[3 rows x 23 columns]"
            ]
          },
          "metadata": {},
          "execution_count": 108
        }
      ]
    },
    {
      "cell_type": "code",
      "metadata": {
        "id": "6ayLLYG9l-Ml",
        "outputId": "150ab122-97d4-4d8d-dcf7-c8f2b1a3b26d",
        "colab": {
          "base_uri": "https://localhost:8080/"
        }
      },
      "source": [
        "dev_type_totals = dev_type_df.sum().sort_values(ascending=False)\n",
        "dev_type_totals"
      ],
      "execution_count": 110,
      "outputs": [
        {
          "output_type": "execute_result",
          "data": {
            "text/plain": [
              "Developer, full-stack                            2856\n",
              "Developer, back-end                              2624\n",
              "Developer, front-end                             1809\n",
              "Developer, desktop or enterprise applications    1221\n",
              "Developer, mobile                                 825\n",
              "DevOps specialist                                 677\n",
              "Database administrator                            640\n",
              "System administrator                              569\n",
              "Designer                                          557\n",
              "Developer, embedded applications or devices       441\n",
              "Data or business analyst                          426\n",
              "Engineer, data                                    413\n",
              "Developer, QA or test                             382\n",
              "Data scientist or machine learning specialist     377\n",
              "Engineering manager                               326\n",
              "Academic researcher                               300\n",
              "Developer, game or graphics                       281\n",
              "Educator                                          274\n",
              "Product manager                                   258\n",
              "Engineer, site reliability                        234\n",
              "Scientist                                         222\n",
              "Senior executive/VP                               162\n",
              "Marketing or sales professional                    56\n",
              "dtype: int64"
            ]
          },
          "metadata": {},
          "execution_count": 110
        }
      ]
    },
    {
      "cell_type": "code",
      "metadata": {
        "id": "Knag54afl-Ml",
        "outputId": "cd5dae1c-1c24-490c-847b-8e43101dcf48",
        "colab": {
          "base_uri": "https://localhost:8080/"
        }
      },
      "source": [
        "dev_type_totals\n",
        "dev_type_totals.index"
      ],
      "execution_count": 111,
      "outputs": [
        {
          "output_type": "execute_result",
          "data": {
            "text/plain": [
              "Index(['Developer, full-stack', 'Developer, back-end', 'Developer, front-end',\n",
              "       'Developer, desktop or enterprise applications', 'Developer, mobile',\n",
              "       'DevOps specialist', 'Database administrator', 'System administrator',\n",
              "       'Designer', 'Developer, embedded applications or devices',\n",
              "       'Data or business analyst', 'Engineer, data', 'Developer, QA or test',\n",
              "       'Data scientist or machine learning specialist', 'Engineering manager',\n",
              "       'Academic researcher', 'Developer, game or graphics', 'Educator',\n",
              "       'Product manager', 'Engineer, site reliability', 'Scientist',\n",
              "       'Senior executive/VP', 'Marketing or sales professional'],\n",
              "      dtype='object')"
            ]
          },
          "metadata": {},
          "execution_count": 111
        }
      ]
    },
    {
      "cell_type": "code",
      "metadata": {
        "id": "91L7zRDbl-Mm"
      },
      "source": [
        "dev_type_totals_pct = dev_type_totals * 100 / dev_type_totals.sum()"
      ],
      "execution_count": 112,
      "outputs": []
    },
    {
      "cell_type": "code",
      "metadata": {
        "id": "gn3yq-nql-Mm",
        "outputId": "e8ee5275-c270-4fc1-c966-9f3ac001df2a",
        "colab": {
          "base_uri": "https://localhost:8080/"
        }
      },
      "source": [
        "dev_type_totals_pct  # get percentage of all the Dev Types"
      ],
      "execution_count": 103,
      "outputs": [
        {
          "output_type": "execute_result",
          "data": {
            "text/plain": [
              "Developer, full-stack                            17.928437\n",
              "Developer, back-end                              16.472065\n",
              "Developer, front-end                             11.355932\n",
              "Developer, desktop or enterprise applications     7.664783\n",
              "Developer, mobile                                 5.178908\n",
              "DevOps specialist                                 4.249843\n",
              "Database administrator                            4.017577\n",
              "System administrator                              3.571877\n",
              "Designer                                          3.496547\n",
              "Developer, embedded applications or devices       2.768362\n",
              "Data or business analyst                          2.674200\n",
              "Engineer, data                                    2.592593\n",
              "Developer, QA or test                             2.397991\n",
              "Data scientist or machine learning specialist     2.366604\n",
              "Engineering manager                               2.046453\n",
              "Academic researcher                               1.883239\n",
              "Developer, game or graphics                       1.763967\n",
              "Educator                                          1.720025\n",
              "Product manager                                   1.619586\n",
              "Engineer, site reliability                        1.468927\n",
              "Scientist                                         1.393597\n",
              "Senior executive/VP                               1.016949\n",
              "Marketing or sales professional                   0.351538\n",
              "dtype: float64"
            ]
          },
          "metadata": {},
          "execution_count": 103
        }
      ]
    },
    {
      "cell_type": "markdown",
      "metadata": {
        "id": "Q48fvRiXl-Mn"
      },
      "source": [
        "##  Can you figure out what percentage of respondents work in roles related to data science?"
      ]
    },
    {
      "cell_type": "code",
      "metadata": {
        "id": "7eEK37nHl-Mn"
      },
      "source": [
        "data_science_related = dev_type_df[(dev_type_df[\"Database administrator\"] == True) | (dev_type_df[\"Data or business analyst\"] == True) | (dev_type_df[\"Data scientist or machine learning specialist\"] == True) | (dev_type_df[\"Engineer, data\"] == True)]"
      ],
      "execution_count": 121,
      "outputs": []
    },
    {
      "cell_type": "code",
      "metadata": {
        "id": "ooh2iUuEl-Mn",
        "outputId": "117279d7-7d12-4d67-b0b2-7904d502bf94",
        "colab": {
          "base_uri": "https://localhost:8080/"
        }
      },
      "source": [
        "data_science_related.shape"
      ],
      "execution_count": 122,
      "outputs": [
        {
          "output_type": "execute_result",
          "data": {
            "text/plain": [
              "(1277, 23)"
            ]
          },
          "metadata": {},
          "execution_count": 122
        }
      ]
    },
    {
      "cell_type": "code",
      "metadata": {
        "id": "aIZ1INu1l-Mo"
      },
      "source": [
        "Percentage_data_roles = data_science_related.shape[0] * 100 / dev_type_df.shape[0]"
      ],
      "execution_count": 123,
      "outputs": []
    },
    {
      "cell_type": "code",
      "metadata": {
        "id": "jxdcl1Gcl-Mo",
        "outputId": "adac125c-82fa-461e-f29d-305c6ca79943",
        "colab": {
          "base_uri": "https://localhost:8080/"
        }
      },
      "source": [
        "Percentage_data_roles"
      ],
      "execution_count": 124,
      "outputs": [
        {
          "output_type": "execute_result",
          "data": {
            "text/plain": [
              "22.91404988336623"
            ]
          },
          "metadata": {},
          "execution_count": 124
        }
      ]
    },
    {
      "cell_type": "markdown",
      "metadata": {
        "id": "aoAkbXK4yM7C"
      },
      "source": [
        "So We see overall 23% respondents work in Data Science related roles"
      ]
    },
    {
      "cell_type": "markdown",
      "metadata": {
        "id": "ctjMbsUYl-Mp"
      },
      "source": [
        "## Percentage distribution for all the roles"
      ]
    },
    {
      "cell_type": "code",
      "metadata": {
        "id": "VWf2IM-wl-Mq",
        "outputId": "ce620917-d637-4d19-8675-720f1f8baefc",
        "colab": {
          "base_uri": "https://localhost:8080/",
          "height": 396
        }
      },
      "source": [
        "plt.figure(figsize=(12, 6));\n",
        "sns.barplot(x=dev_type_totals_pct, y=dev_type_totals_pct.index)\n",
        "plt.ylabel('Roles of Respondents');\n",
        "plt.xlabel('Percentage');"
      ],
      "execution_count": 125,
      "outputs": [
        {
          "output_type": "display_data",
          "data": {
            "image/png": "[encoded data removed]",
            "text/plain": [
              "<Figure size 864x432 with 1 Axes>"
            ]
          },
          "metadata": {
            "needs_background": "light"
          }
        }
      ]
    },
    {
      "cell_type": "markdown",
      "metadata": {
        "id": "Sid1j2sol-Mr"
      },
      "source": [
        "## Which positions have the highest percentage of women?"
      ]
    },
    {
      "cell_type": "code",
      "metadata": {
        "id": "ONoG4EZFl-Mr"
      },
      "source": [
        "merged_df = pd.merge(dev_type_df,survey_df.Gender,left_index=True,right_index= True) #added column Gender to the right"
      ],
      "execution_count": 126,
      "outputs": []
    },
    {
      "cell_type": "code",
      "metadata": {
        "id": "XKG0wTW6l-Mr",
        "outputId": "4de640e6-f2e4-490c-b413-18815ae9c1d9",
        "colab": {
          "base_uri": "https://localhost:8080/",
          "height": 512
        }
      },
      "source": [
        "merged_df.head(3)"
      ],
      "execution_count": 127,
      "outputs": [
        {
          "output_type": "execute_result",
          "data": {
            "text/html": [
              "<div>\n",
              "<style scoped>\n",
              "    .dataframe tbody tr th:only-of-type {\n",
              "        vertical-align: middle;\n",
              "    }\n",
              "\n",
              "    .dataframe tbody tr th {\n",
              "        vertical-align: top;\n",
              "    }\n",
              "\n",
              "    .dataframe thead th {\n",
              "        text-align: right;\n",
              "    }\n",
              "</style>\n",
              "<table border=\"1\" class=\"dataframe\">\n",
              "  <thead>\n",
              "    <tr style=\"text-align: right;\">\n",
              "      <th></th>\n",
              "      <th>Developer, desktop or enterprise applications</th>\n",
              "      <th>Developer, full-stack</th>\n",
              "      <th>Developer, mobile</th>\n",
              "      <th>Designer</th>\n",
              "      <th>Developer, front-end</th>\n",
              "      <th>Developer, back-end</th>\n",
              "      <th>Developer, QA or test</th>\n",
              "      <th>DevOps specialist</th>\n",
              "      <th>Developer, game or graphics</th>\n",
              "      <th>Database administrator</th>\n",
              "      <th>Developer, embedded applications or devices</th>\n",
              "      <th>Engineer, data</th>\n",
              "      <th>Educator</th>\n",
              "      <th>System administrator</th>\n",
              "      <th>Engineering manager</th>\n",
              "      <th>Product manager</th>\n",
              "      <th>Data or business analyst</th>\n",
              "      <th>Academic researcher</th>\n",
              "      <th>Data scientist or machine learning specialist</th>\n",
              "      <th>Scientist</th>\n",
              "      <th>Senior executive/VP</th>\n",
              "      <th>Engineer, site reliability</th>\n",
              "      <th>Marketing or sales professional</th>\n",
              "      <th>Gender</th>\n",
              "    </tr>\n",
              "  </thead>\n",
              "  <tbody>\n",
              "    <tr>\n",
              "      <th>0</th>\n",
              "      <td>True</td>\n",
              "      <td>True</td>\n",
              "      <td>False</td>\n",
              "      <td>False</td>\n",
              "      <td>False</td>\n",
              "      <td>False</td>\n",
              "      <td>False</td>\n",
              "      <td>False</td>\n",
              "      <td>False</td>\n",
              "      <td>False</td>\n",
              "      <td>False</td>\n",
              "      <td>False</td>\n",
              "      <td>False</td>\n",
              "      <td>False</td>\n",
              "      <td>False</td>\n",
              "      <td>False</td>\n",
              "      <td>False</td>\n",
              "      <td>False</td>\n",
              "      <td>False</td>\n",
              "      <td>False</td>\n",
              "      <td>False</td>\n",
              "      <td>False</td>\n",
              "      <td>False</td>\n",
              "      <td>Man</td>\n",
              "    </tr>\n",
              "    <tr>\n",
              "      <th>1</th>\n",
              "      <td>False</td>\n",
              "      <td>True</td>\n",
              "      <td>True</td>\n",
              "      <td>False</td>\n",
              "      <td>False</td>\n",
              "      <td>False</td>\n",
              "      <td>False</td>\n",
              "      <td>False</td>\n",
              "      <td>False</td>\n",
              "      <td>False</td>\n",
              "      <td>False</td>\n",
              "      <td>False</td>\n",
              "      <td>False</td>\n",
              "      <td>False</td>\n",
              "      <td>False</td>\n",
              "      <td>False</td>\n",
              "      <td>False</td>\n",
              "      <td>False</td>\n",
              "      <td>False</td>\n",
              "      <td>False</td>\n",
              "      <td>False</td>\n",
              "      <td>False</td>\n",
              "      <td>False</td>\n",
              "      <td>NaN</td>\n",
              "    </tr>\n",
              "    <tr>\n",
              "      <th>2</th>\n",
              "      <td>False</td>\n",
              "      <td>False</td>\n",
              "      <td>False</td>\n",
              "      <td>False</td>\n",
              "      <td>False</td>\n",
              "      <td>False</td>\n",
              "      <td>False</td>\n",
              "      <td>False</td>\n",
              "      <td>False</td>\n",
              "      <td>False</td>\n",
              "      <td>False</td>\n",
              "      <td>False</td>\n",
              "      <td>False</td>\n",
              "      <td>False</td>\n",
              "      <td>False</td>\n",
              "      <td>False</td>\n",
              "      <td>False</td>\n",
              "      <td>False</td>\n",
              "      <td>False</td>\n",
              "      <td>False</td>\n",
              "      <td>False</td>\n",
              "      <td>False</td>\n",
              "      <td>False</td>\n",
              "      <td>NaN</td>\n",
              "    </tr>\n",
              "    <tr>\n",
              "      <th>3</th>\n",
              "      <td>False</td>\n",
              "      <td>False</td>\n",
              "      <td>False</td>\n",
              "      <td>False</td>\n",
              "      <td>False</td>\n",
              "      <td>False</td>\n",
              "      <td>False</td>\n",
              "      <td>False</td>\n",
              "      <td>False</td>\n",
              "      <td>False</td>\n",
              "      <td>False</td>\n",
              "      <td>False</td>\n",
              "      <td>False</td>\n",
              "      <td>False</td>\n",
              "      <td>False</td>\n",
              "      <td>False</td>\n",
              "      <td>False</td>\n",
              "      <td>False</td>\n",
              "      <td>False</td>\n",
              "      <td>False</td>\n",
              "      <td>False</td>\n",
              "      <td>False</td>\n",
              "      <td>False</td>\n",
              "      <td>Man</td>\n",
              "    </tr>\n",
              "    <tr>\n",
              "      <th>4</th>\n",
              "      <td>False</td>\n",
              "      <td>False</td>\n",
              "      <td>False</td>\n",
              "      <td>False</td>\n",
              "      <td>False</td>\n",
              "      <td>False</td>\n",
              "      <td>False</td>\n",
              "      <td>False</td>\n",
              "      <td>False</td>\n",
              "      <td>False</td>\n",
              "      <td>False</td>\n",
              "      <td>False</td>\n",
              "      <td>False</td>\n",
              "      <td>False</td>\n",
              "      <td>False</td>\n",
              "      <td>False</td>\n",
              "      <td>False</td>\n",
              "      <td>False</td>\n",
              "      <td>False</td>\n",
              "      <td>False</td>\n",
              "      <td>False</td>\n",
              "      <td>False</td>\n",
              "      <td>False</td>\n",
              "      <td>Man</td>\n",
              "    </tr>\n",
              "    <tr>\n",
              "      <th>...</th>\n",
              "      <td>...</td>\n",
              "      <td>...</td>\n",
              "      <td>...</td>\n",
              "      <td>...</td>\n",
              "      <td>...</td>\n",
              "      <td>...</td>\n",
              "      <td>...</td>\n",
              "      <td>...</td>\n",
              "      <td>...</td>\n",
              "      <td>...</td>\n",
              "      <td>...</td>\n",
              "      <td>...</td>\n",
              "      <td>...</td>\n",
              "      <td>...</td>\n",
              "      <td>...</td>\n",
              "      <td>...</td>\n",
              "      <td>...</td>\n",
              "      <td>...</td>\n",
              "      <td>...</td>\n",
              "      <td>...</td>\n",
              "      <td>...</td>\n",
              "      <td>...</td>\n",
              "      <td>...</td>\n",
              "      <td>...</td>\n",
              "    </tr>\n",
              "    <tr>\n",
              "      <th>5568</th>\n",
              "      <td>True</td>\n",
              "      <td>False</td>\n",
              "      <td>False</td>\n",
              "      <td>False</td>\n",
              "      <td>False</td>\n",
              "      <td>True</td>\n",
              "      <td>False</td>\n",
              "      <td>True</td>\n",
              "      <td>False</td>\n",
              "      <td>False</td>\n",
              "      <td>True</td>\n",
              "      <td>False</td>\n",
              "      <td>False</td>\n",
              "      <td>False</td>\n",
              "      <td>False</td>\n",
              "      <td>False</td>\n",
              "      <td>True</td>\n",
              "      <td>False</td>\n",
              "      <td>False</td>\n",
              "      <td>False</td>\n",
              "      <td>False</td>\n",
              "      <td>False</td>\n",
              "      <td>False</td>\n",
              "      <td>Man</td>\n",
              "    </tr>\n",
              "    <tr>\n",
              "      <th>5569</th>\n",
              "      <td>False</td>\n",
              "      <td>True</td>\n",
              "      <td>False</td>\n",
              "      <td>False</td>\n",
              "      <td>False</td>\n",
              "      <td>False</td>\n",
              "      <td>False</td>\n",
              "      <td>False</td>\n",
              "      <td>False</td>\n",
              "      <td>True</td>\n",
              "      <td>False</td>\n",
              "      <td>False</td>\n",
              "      <td>False</td>\n",
              "      <td>True</td>\n",
              "      <td>False</td>\n",
              "      <td>False</td>\n",
              "      <td>False</td>\n",
              "      <td>False</td>\n",
              "      <td>False</td>\n",
              "      <td>False</td>\n",
              "      <td>False</td>\n",
              "      <td>False</td>\n",
              "      <td>False</td>\n",
              "      <td>NaN</td>\n",
              "    </tr>\n",
              "    <tr>\n",
              "      <th>5570</th>\n",
              "      <td>False</td>\n",
              "      <td>True</td>\n",
              "      <td>False</td>\n",
              "      <td>False</td>\n",
              "      <td>True</td>\n",
              "      <td>False</td>\n",
              "      <td>False</td>\n",
              "      <td>False</td>\n",
              "      <td>False</td>\n",
              "      <td>False</td>\n",
              "      <td>False</td>\n",
              "      <td>False</td>\n",
              "      <td>True</td>\n",
              "      <td>False</td>\n",
              "      <td>False</td>\n",
              "      <td>False</td>\n",
              "      <td>False</td>\n",
              "      <td>False</td>\n",
              "      <td>False</td>\n",
              "      <td>False</td>\n",
              "      <td>False</td>\n",
              "      <td>False</td>\n",
              "      <td>False</td>\n",
              "      <td>Man</td>\n",
              "    </tr>\n",
              "    <tr>\n",
              "      <th>5571</th>\n",
              "      <td>True</td>\n",
              "      <td>True</td>\n",
              "      <td>True</td>\n",
              "      <td>False</td>\n",
              "      <td>True</td>\n",
              "      <td>False</td>\n",
              "      <td>False</td>\n",
              "      <td>False</td>\n",
              "      <td>True</td>\n",
              "      <td>False</td>\n",
              "      <td>False</td>\n",
              "      <td>False</td>\n",
              "      <td>False</td>\n",
              "      <td>False</td>\n",
              "      <td>False</td>\n",
              "      <td>False</td>\n",
              "      <td>False</td>\n",
              "      <td>False</td>\n",
              "      <td>False</td>\n",
              "      <td>False</td>\n",
              "      <td>False</td>\n",
              "      <td>False</td>\n",
              "      <td>False</td>\n",
              "      <td>Man</td>\n",
              "    </tr>\n",
              "    <tr>\n",
              "      <th>5572</th>\n",
              "      <td>False</td>\n",
              "      <td>False</td>\n",
              "      <td>False</td>\n",
              "      <td>False</td>\n",
              "      <td>False</td>\n",
              "      <td>False</td>\n",
              "      <td>False</td>\n",
              "      <td>False</td>\n",
              "      <td>False</td>\n",
              "      <td>False</td>\n",
              "      <td>False</td>\n",
              "      <td>False</td>\n",
              "      <td>False</td>\n",
              "      <td>False</td>\n",
              "      <td>False</td>\n",
              "      <td>False</td>\n",
              "      <td>False</td>\n",
              "      <td>False</td>\n",
              "      <td>False</td>\n",
              "      <td>False</td>\n",
              "      <td>False</td>\n",
              "      <td>False</td>\n",
              "      <td>False</td>\n",
              "      <td>Man</td>\n",
              "    </tr>\n",
              "  </tbody>\n",
              "</table>\n",
              "<p>5573 rows × 24 columns</p>\n",
              "</div>"
            ],
            "text/plain": [
              "      Developer, desktop or enterprise applications  ...  Gender\n",
              "0                                              True  ...     Man\n",
              "1                                             False  ...     NaN\n",
              "2                                             False  ...     NaN\n",
              "3                                             False  ...     Man\n",
              "4                                             False  ...     Man\n",
              "...                                             ...  ...     ...\n",
              "5568                                           True  ...     Man\n",
              "5569                                          False  ...     NaN\n",
              "5570                                          False  ...     Man\n",
              "5571                                           True  ...     Man\n",
              "5572                                          False  ...     Man\n",
              "\n",
              "[5573 rows x 24 columns]"
            ]
          },
          "metadata": {},
          "execution_count": 127
        }
      ]
    },
    {
      "cell_type": "code",
      "metadata": {
        "id": "jqV-5rT2l-Ms",
        "outputId": "69564486-f6fe-4140-d94f-9302d4cacec0",
        "colab": {
          "base_uri": "https://localhost:8080/",
          "height": 333
        }
      },
      "source": [
        "merged_df.groupby('Gender').sum()"
      ],
      "execution_count": 128,
      "outputs": [
        {
          "output_type": "execute_result",
          "data": {
            "text/html": [
              "<div>\n",
              "<style scoped>\n",
              "    .dataframe tbody tr th:only-of-type {\n",
              "        vertical-align: middle;\n",
              "    }\n",
              "\n",
              "    .dataframe tbody tr th {\n",
              "        vertical-align: top;\n",
              "    }\n",
              "\n",
              "    .dataframe thead th {\n",
              "        text-align: right;\n",
              "    }\n",
              "</style>\n",
              "<table border=\"1\" class=\"dataframe\">\n",
              "  <thead>\n",
              "    <tr style=\"text-align: right;\">\n",
              "      <th></th>\n",
              "      <th>Developer, desktop or enterprise applications</th>\n",
              "      <th>Developer, full-stack</th>\n",
              "      <th>Developer, mobile</th>\n",
              "      <th>Designer</th>\n",
              "      <th>Developer, front-end</th>\n",
              "      <th>Developer, back-end</th>\n",
              "      <th>Developer, QA or test</th>\n",
              "      <th>DevOps specialist</th>\n",
              "      <th>Developer, game or graphics</th>\n",
              "      <th>Database administrator</th>\n",
              "      <th>Developer, embedded applications or devices</th>\n",
              "      <th>Engineer, data</th>\n",
              "      <th>Educator</th>\n",
              "      <th>System administrator</th>\n",
              "      <th>Engineering manager</th>\n",
              "      <th>Product manager</th>\n",
              "      <th>Data or business analyst</th>\n",
              "      <th>Academic researcher</th>\n",
              "      <th>Data scientist or machine learning specialist</th>\n",
              "      <th>Scientist</th>\n",
              "      <th>Senior executive/VP</th>\n",
              "      <th>Engineer, site reliability</th>\n",
              "      <th>Marketing or sales professional</th>\n",
              "    </tr>\n",
              "    <tr>\n",
              "      <th>Gender</th>\n",
              "      <th></th>\n",
              "      <th></th>\n",
              "      <th></th>\n",
              "      <th></th>\n",
              "      <th></th>\n",
              "      <th></th>\n",
              "      <th></th>\n",
              "      <th></th>\n",
              "      <th></th>\n",
              "      <th></th>\n",
              "      <th></th>\n",
              "      <th></th>\n",
              "      <th></th>\n",
              "      <th></th>\n",
              "      <th></th>\n",
              "      <th></th>\n",
              "      <th></th>\n",
              "      <th></th>\n",
              "      <th></th>\n",
              "      <th></th>\n",
              "      <th></th>\n",
              "      <th></th>\n",
              "      <th></th>\n",
              "    </tr>\n",
              "  </thead>\n",
              "  <tbody>\n",
              "    <tr>\n",
              "      <th>Man</th>\n",
              "      <td>1126</td>\n",
              "      <td>2585</td>\n",
              "      <td>760</td>\n",
              "      <td>497</td>\n",
              "      <td>1631</td>\n",
              "      <td>2382</td>\n",
              "      <td>342</td>\n",
              "      <td>626</td>\n",
              "      <td>262</td>\n",
              "      <td>591</td>\n",
              "      <td>405</td>\n",
              "      <td>371</td>\n",
              "      <td>247</td>\n",
              "      <td>520</td>\n",
              "      <td>297</td>\n",
              "      <td>242</td>\n",
              "      <td>378</td>\n",
              "      <td>267</td>\n",
              "      <td>331</td>\n",
              "      <td>204</td>\n",
              "      <td>147</td>\n",
              "      <td>212</td>\n",
              "      <td>43</td>\n",
              "    </tr>\n",
              "    <tr>\n",
              "      <th>Non-binary, genderqueer, or gender non-conforming</th>\n",
              "      <td>2</td>\n",
              "      <td>16</td>\n",
              "      <td>4</td>\n",
              "      <td>3</td>\n",
              "      <td>9</td>\n",
              "      <td>14</td>\n",
              "      <td>1</td>\n",
              "      <td>3</td>\n",
              "      <td>2</td>\n",
              "      <td>4</td>\n",
              "      <td>2</td>\n",
              "      <td>2</td>\n",
              "      <td>0</td>\n",
              "      <td>4</td>\n",
              "      <td>0</td>\n",
              "      <td>0</td>\n",
              "      <td>1</td>\n",
              "      <td>0</td>\n",
              "      <td>0</td>\n",
              "      <td>1</td>\n",
              "      <td>0</td>\n",
              "      <td>2</td>\n",
              "      <td>1</td>\n",
              "    </tr>\n",
              "    <tr>\n",
              "      <th>Woman</th>\n",
              "      <td>38</td>\n",
              "      <td>154</td>\n",
              "      <td>33</td>\n",
              "      <td>33</td>\n",
              "      <td>105</td>\n",
              "      <td>116</td>\n",
              "      <td>20</td>\n",
              "      <td>15</td>\n",
              "      <td>7</td>\n",
              "      <td>26</td>\n",
              "      <td>14</td>\n",
              "      <td>22</td>\n",
              "      <td>15</td>\n",
              "      <td>18</td>\n",
              "      <td>14</td>\n",
              "      <td>5</td>\n",
              "      <td>27</td>\n",
              "      <td>14</td>\n",
              "      <td>23</td>\n",
              "      <td>9</td>\n",
              "      <td>6</td>\n",
              "      <td>9</td>\n",
              "      <td>7</td>\n",
              "    </tr>\n",
              "  </tbody>\n",
              "</table>\n",
              "</div>"
            ],
            "text/plain": [
              "                                                   Developer, desktop or enterprise applications  ...  Marketing or sales professional\n",
              "Gender                                                                                            ...                                 \n",
              "Man                                                                                         1126  ...                               43\n",
              "Non-binary, genderqueer, or gender non-conforming                                              2  ...                                1\n",
              "Woman                                                                                         38  ...                                7\n",
              "\n",
              "[3 rows x 23 columns]"
            ]
          },
          "metadata": {},
          "execution_count": 128
        }
      ]
    },
    {
      "cell_type": "markdown",
      "metadata": {
        "id": "fT754B9Zl-Ms"
      },
      "source": [
        "##  Developer , full stack is the role with highest number of women ."
      ]
    },
    {
      "cell_type": "code",
      "metadata": {
        "id": "kP0fnCkjl-Mt",
        "outputId": "fbb38e34-c5e1-4e56-db8d-c0507411b459"
      },
      "source": [
        "merged_df.groupby('Gender').sum().idxmax(axis=1)  #sum on columns"
      ],
      "execution_count": null,
      "outputs": [
        {
          "data": {
            "text/plain": [
              "Gender\n",
              "Man                                                    Developer, back-end\n",
              "Non-binary, genderqueer, or gender non-conforming    Developer, full-stack\n",
              "Woman                                                Developer, full-stack\n",
              "dtype: object"
            ]
          },
          "execution_count": 56,
          "metadata": {},
          "output_type": "execute_result"
        }
      ]
    },
    {
      "cell_type": "markdown",
      "metadata": {
        "id": "oai5lEmKl-Mt"
      },
      "source": [
        "## Lets Do some analysis on the Age column"
      ]
    },
    {
      "cell_type": "code",
      "metadata": {
        "id": "HAYLoUUcl-Mu",
        "outputId": "1c95c45d-df5e-415f-81ef-694d500f9f2f",
        "colab": {
          "base_uri": "https://localhost:8080/"
        }
      },
      "source": [
        "survey_df['Age']"
      ],
      "execution_count": 129,
      "outputs": [
        {
          "output_type": "execute_result",
          "data": {
            "text/plain": [
              "0        NaN\n",
              "1        NaN\n",
              "2        NaN\n",
              "3       25.0\n",
              "4       31.0\n",
              "        ... \n",
              "5568    19.0\n",
              "5569     NaN\n",
              "5570    29.0\n",
              "5571    33.0\n",
              "5572    18.0\n",
              "Name: Age, Length: 5573, dtype: float64"
            ]
          },
          "metadata": {},
          "execution_count": 129
        }
      ]
    },
    {
      "cell_type": "markdown",
      "metadata": {
        "id": "K7Zi9u0-l-Mu"
      },
      "source": [
        "## Let us filter out responses by age (or age group)and analyze and compare the survey results for different age groups. \n",
        "\n",
        "### Create a new column called AgeGroup containing values like Less than 10 years, 10-18 years, 18-30 years, 30-45 years, 45-60 years and Older than 60 years. "
      ]
    },
    {
      "cell_type": "code",
      "metadata": {
        "id": "jWJJiuXbl-Mv"
      },
      "source": [
        "survey_df['AgeGroup'] = pd.cut(survey_df['Age'], bins=[0,10,18,30,45,60,100], labels=[\"Less 10 years\", \"10-18 years\", \"18-30 years\", \"30-45 years\", \"45-60 years\" ,\"Older than 60 years\"], right=False)\n"
      ],
      "execution_count": 130,
      "outputs": []
    },
    {
      "cell_type": "code",
      "metadata": {
        "id": "UqvpxUZGl-Mv",
        "outputId": "e6a7eb9b-4bb1-4925-ac04-6c9e2e04748f",
        "colab": {
          "base_uri": "https://localhost:8080/"
        }
      },
      "source": [
        "Age_grp_count = survey_df['AgeGroup'].value_counts()\n",
        "Age_grp_count"
      ],
      "execution_count": 131,
      "outputs": [
        {
          "output_type": "execute_result",
          "data": {
            "text/plain": [
              "30-45 years            2063\n",
              "18-30 years            2032\n",
              "45-60 years             537\n",
              "10-18 years             121\n",
              "Older than 60 years     112\n",
              "Less 10 years             0\n",
              "Name: AgeGroup, dtype: int64"
            ]
          },
          "metadata": {},
          "execution_count": 131
        }
      ]
    },
    {
      "cell_type": "code",
      "metadata": {
        "id": "NGIYdTYul-Mv",
        "outputId": "bbac959a-c79f-43f3-f9a5-0ef6206e1195",
        "colab": {
          "base_uri": "https://localhost:8080/",
          "height": 519
        }
      },
      "source": [
        "survey_df.sample(10)  #Lets see a sample to 10"
      ],
      "execution_count": 132,
      "outputs": [
        {
          "output_type": "execute_result",
          "data": {
            "text/html": [
              "<div>\n",
              "<style scoped>\n",
              "    .dataframe tbody tr th:only-of-type {\n",
              "        vertical-align: middle;\n",
              "    }\n",
              "\n",
              "    .dataframe tbody tr th {\n",
              "        vertical-align: top;\n",
              "    }\n",
              "\n",
              "    .dataframe thead th {\n",
              "        text-align: right;\n",
              "    }\n",
              "</style>\n",
              "<table border=\"1\" class=\"dataframe\">\n",
              "  <thead>\n",
              "    <tr style=\"text-align: right;\">\n",
              "      <th></th>\n",
              "      <th>Country</th>\n",
              "      <th>Age</th>\n",
              "      <th>Gender</th>\n",
              "      <th>EdLevel</th>\n",
              "      <th>Hobbyist</th>\n",
              "      <th>Employment</th>\n",
              "      <th>DevType</th>\n",
              "      <th>EmploymentType</th>\n",
              "      <th>AgeGroup</th>\n",
              "    </tr>\n",
              "  </thead>\n",
              "  <tbody>\n",
              "    <tr>\n",
              "      <th>1016</th>\n",
              "      <td>Italy</td>\n",
              "      <td>35.0</td>\n",
              "      <td>Man</td>\n",
              "      <td>Secondary school (e.g. American high school, G...</td>\n",
              "      <td>No</td>\n",
              "      <td>Employed full-time</td>\n",
              "      <td>Developer, back-end;Developer, full-stack;DevO...</td>\n",
              "      <td>Professional</td>\n",
              "      <td>30-45 years</td>\n",
              "    </tr>\n",
              "    <tr>\n",
              "      <th>2613</th>\n",
              "      <td>India</td>\n",
              "      <td>NaN</td>\n",
              "      <td>Man</td>\n",
              "      <td>Bachelor’s degree (B.A., B.S., B.Eng., etc.)</td>\n",
              "      <td>Yes</td>\n",
              "      <td>Employed full-time</td>\n",
              "      <td>Developer, back-end;Developer, full-stack;DevO...</td>\n",
              "      <td>Professional</td>\n",
              "      <td>NaN</td>\n",
              "    </tr>\n",
              "    <tr>\n",
              "      <th>4710</th>\n",
              "      <td>NaN</td>\n",
              "      <td>NaN</td>\n",
              "      <td>NaN</td>\n",
              "      <td>NaN</td>\n",
              "      <td>NaN</td>\n",
              "      <td>NaN</td>\n",
              "      <td>NaN</td>\n",
              "      <td>NaN</td>\n",
              "      <td>NaN</td>\n",
              "    </tr>\n",
              "    <tr>\n",
              "      <th>2917</th>\n",
              "      <td>Brazil</td>\n",
              "      <td>32.0</td>\n",
              "      <td>Man</td>\n",
              "      <td>Primary/elementary school</td>\n",
              "      <td>Yes</td>\n",
              "      <td>Employed full-time</td>\n",
              "      <td>Developer, full-stack</td>\n",
              "      <td>Professional</td>\n",
              "      <td>30-45 years</td>\n",
              "    </tr>\n",
              "    <tr>\n",
              "      <th>1917</th>\n",
              "      <td>Germany</td>\n",
              "      <td>56.0</td>\n",
              "      <td>Woman</td>\n",
              "      <td>Master’s degree (M.A., M.S., M.Eng., MBA, etc.)</td>\n",
              "      <td>No</td>\n",
              "      <td>Employed part-time</td>\n",
              "      <td>Database administrator;DevOps specialist;Syste...</td>\n",
              "      <td>Professional</td>\n",
              "      <td>45-60 years</td>\n",
              "    </tr>\n",
              "    <tr>\n",
              "      <th>1512</th>\n",
              "      <td>Jordan</td>\n",
              "      <td>29.0</td>\n",
              "      <td>Man</td>\n",
              "      <td>Bachelor’s degree (B.A., B.S., B.Eng., etc.)</td>\n",
              "      <td>Yes</td>\n",
              "      <td>Employed full-time</td>\n",
              "      <td>Developer, back-end;Developer, desktop or ente...</td>\n",
              "      <td>Professional</td>\n",
              "      <td>18-30 years</td>\n",
              "    </tr>\n",
              "    <tr>\n",
              "      <th>46</th>\n",
              "      <td>United Kingdom</td>\n",
              "      <td>53.0</td>\n",
              "      <td>Man</td>\n",
              "      <td>Other doctoral degree (Ph.D., Ed.D., etc.)</td>\n",
              "      <td>Yes</td>\n",
              "      <td>Employed full-time</td>\n",
              "      <td>Data scientist or machine learning specialist;...</td>\n",
              "      <td>Professional</td>\n",
              "      <td>45-60 years</td>\n",
              "    </tr>\n",
              "    <tr>\n",
              "      <th>2791</th>\n",
              "      <td>Canada</td>\n",
              "      <td>28.0</td>\n",
              "      <td>Man</td>\n",
              "      <td>Master’s degree (M.A., M.S., M.Eng., MBA, etc.)</td>\n",
              "      <td>No</td>\n",
              "      <td>Employed full-time</td>\n",
              "      <td>Developer, QA or test</td>\n",
              "      <td>Professional</td>\n",
              "      <td>18-30 years</td>\n",
              "    </tr>\n",
              "    <tr>\n",
              "      <th>799</th>\n",
              "      <td>Israel</td>\n",
              "      <td>40.0</td>\n",
              "      <td>Man</td>\n",
              "      <td>Some college/university study without earning ...</td>\n",
              "      <td>Yes</td>\n",
              "      <td>Independent contractor, freelancer, or self-em...</td>\n",
              "      <td>Developer, back-end;Developer, desktop or ente...</td>\n",
              "      <td>Professional</td>\n",
              "      <td>30-45 years</td>\n",
              "    </tr>\n",
              "    <tr>\n",
              "      <th>2185</th>\n",
              "      <td>United States</td>\n",
              "      <td>NaN</td>\n",
              "      <td>NaN</td>\n",
              "      <td>Bachelor’s degree (B.A., B.S., B.Eng., etc.)</td>\n",
              "      <td>Yes</td>\n",
              "      <td>Employed full-time</td>\n",
              "      <td>Engineering manager</td>\n",
              "      <td>Professional</td>\n",
              "      <td>NaN</td>\n",
              "    </tr>\n",
              "  </tbody>\n",
              "</table>\n",
              "</div>"
            ],
            "text/plain": [
              "             Country   Age  ... EmploymentType     AgeGroup\n",
              "1016           Italy  35.0  ...   Professional  30-45 years\n",
              "2613           India   NaN  ...   Professional          NaN\n",
              "4710             NaN   NaN  ...            NaN          NaN\n",
              "2917          Brazil  32.0  ...   Professional  30-45 years\n",
              "1917         Germany  56.0  ...   Professional  45-60 years\n",
              "1512          Jordan  29.0  ...   Professional  18-30 years\n",
              "46    United Kingdom  53.0  ...   Professional  45-60 years\n",
              "2791          Canada  28.0  ...   Professional  18-30 years\n",
              "799           Israel  40.0  ...   Professional  30-45 years\n",
              "2185   United States   NaN  ...   Professional          NaN\n",
              "\n",
              "[10 rows x 9 columns]"
            ]
          },
          "metadata": {},
          "execution_count": 132
        }
      ]
    },
    {
      "cell_type": "markdown",
      "metadata": {
        "id": "GtwGXgzpl-Mw"
      },
      "source": [
        "## Visualize on AgeGroup"
      ]
    },
    {
      "cell_type": "code",
      "metadata": {
        "id": "qFEWXrMMl-Mw",
        "outputId": "48a2b19b-7125-4994-9ea1-c99b01115855"
      },
      "source": [
        "g = sns.countplot(survey_df['AgeGroup']);\n",
        "\n",
        "g.set_title(schema.Age, fontsize=20);\n",
        "g.set_ylabel(\"Count Distribuition in Thousands\", fontsize=16);\n",
        "g.set_xticklabels(g.get_xticklabels(),rotation=80);"
      ],
      "execution_count": null,
      "outputs": [
        {
          "data": {
            "image/png": "[encoded data removed]",
            "text/plain": [
              "<Figure size 648x360 with 1 Axes>"
            ]
          },
          "metadata": {
            "needs_background": "light"
          },
          "output_type": "display_data"
        }
      ]
    },
    {
      "cell_type": "markdown",
      "metadata": {
        "id": "7EZ_0efYl-Mx"
      },
      "source": [
        "## Get Gender distribution on AgeGroup"
      ]
    },
    {
      "cell_type": "code",
      "metadata": {
        "id": "WpjTs_cMl-Mx",
        "outputId": "826b47fc-b650-4e75-e0bf-f4887ff35599",
        "colab": {
          "base_uri": "https://localhost:8080/",
          "height": 597
        }
      },
      "source": [
        "plt.figure(figsize=(15,7));\n",
        "\n",
        "g=sns.set_style('darkgrid')\n",
        "\n",
        "g = sns.countplot(survey_df['AgeGroup'],hue = survey_df.Gender,orient='v');\n",
        "\n",
        "g.set_title(schema.Age, fontsize=20);\n",
        "g.set_ylabel(\"Count Distribuition in Thousands\", fontsize=16,labelpad=0.3);\n",
        "g.set_xticklabels(g.get_xticklabels(),rotation=90);\n",
        "\n"
      ],
      "execution_count": 135,
      "outputs": [
        {
          "output_type": "display_data",
          "data": {
            "image/png": "[encoded data removed]",
            "text/plain": [
              "<Figure size 1080x504 with 1 Axes>"
            ]
          },
          "metadata": {}
        }
      ]
    },
    {
      "cell_type": "markdown",
      "metadata": {
        "id": "Kgt-81QTl-My"
      },
      "source": [
        "## Lets do some Analysis on Countries of the respondents"
      ]
    },
    {
      "cell_type": "code",
      "metadata": {
        "id": "hnj2P3pul-My",
        "outputId": "63ccdbb7-b172-4ce9-db25-5f76a60e4d22",
        "colab": {
          "base_uri": "https://localhost:8080/"
        }
      },
      "source": [
        "top_countries = survey_df.Country.value_counts().head(15)\n",
        "top_countries\n"
      ],
      "execution_count": 136,
      "outputs": [
        {
          "output_type": "execute_result",
          "data": {
            "text/plain": [
              "United States         2818\n",
              "Canada                 481\n",
              "United Kingdom         264\n",
              "Germany                207\n",
              "India                  161\n",
              "Australia              132\n",
              "Brazil                 129\n",
              "France                  85\n",
              "Poland                  69\n",
              "Netherlands             61\n",
              "Italy                   54\n",
              "Spain                   49\n",
              "Mexico                  47\n",
              "Russian Federation      44\n",
              "Turkey                  44\n",
              "Name: Country, dtype: int64"
            ]
          },
          "metadata": {},
          "execution_count": 136
        }
      ]
    },
    {
      "cell_type": "markdown",
      "metadata": {
        "id": "VKfBzrT0l-Mz"
      },
      "source": [
        "## As number of respndents are from Age 18-30 , lets do some more analysis."
      ]
    },
    {
      "cell_type": "code",
      "metadata": {
        "id": "9ty_Ds6Fl-Mz"
      },
      "source": [
        "temp= survey_df.groupby(['AgeGroup'])\n",
        "temp1 = temp.get_group(('18-30 years'))[['Gender', 'Country']]"
      ],
      "execution_count": 138,
      "outputs": []
    },
    {
      "cell_type": "code",
      "metadata": {
        "id": "mmFrSx5Kl-Mz",
        "outputId": "394f29b7-48e7-430d-d7cf-d62dfc9a9aa6",
        "colab": {
          "base_uri": "https://localhost:8080/",
          "height": 424
        }
      },
      "source": [
        "temp1"
      ],
      "execution_count": 139,
      "outputs": [
        {
          "output_type": "execute_result",
          "data": {
            "text/html": [
              "<div>\n",
              "<style scoped>\n",
              "    .dataframe tbody tr th:only-of-type {\n",
              "        vertical-align: middle;\n",
              "    }\n",
              "\n",
              "    .dataframe tbody tr th {\n",
              "        vertical-align: top;\n",
              "    }\n",
              "\n",
              "    .dataframe thead th {\n",
              "        text-align: right;\n",
              "    }\n",
              "</style>\n",
              "<table border=\"1\" class=\"dataframe\">\n",
              "  <thead>\n",
              "    <tr style=\"text-align: right;\">\n",
              "      <th></th>\n",
              "      <th>Gender</th>\n",
              "      <th>Country</th>\n",
              "    </tr>\n",
              "  </thead>\n",
              "  <tbody>\n",
              "    <tr>\n",
              "      <th>3</th>\n",
              "      <td>Man</td>\n",
              "      <td>Albania</td>\n",
              "    </tr>\n",
              "    <tr>\n",
              "      <th>9</th>\n",
              "      <td>Man</td>\n",
              "      <td>United Kingdom</td>\n",
              "    </tr>\n",
              "    <tr>\n",
              "      <th>10</th>\n",
              "      <td>Man</td>\n",
              "      <td>United Kingdom</td>\n",
              "    </tr>\n",
              "    <tr>\n",
              "      <th>13</th>\n",
              "      <td>Man</td>\n",
              "      <td>United States</td>\n",
              "    </tr>\n",
              "    <tr>\n",
              "      <th>16</th>\n",
              "      <td>Man</td>\n",
              "      <td>United States</td>\n",
              "    </tr>\n",
              "    <tr>\n",
              "      <th>...</th>\n",
              "      <td>...</td>\n",
              "      <td>...</td>\n",
              "    </tr>\n",
              "    <tr>\n",
              "      <th>5563</th>\n",
              "      <td>Man</td>\n",
              "      <td>Philippines</td>\n",
              "    </tr>\n",
              "    <tr>\n",
              "      <th>5567</th>\n",
              "      <td>Man</td>\n",
              "      <td>China</td>\n",
              "    </tr>\n",
              "    <tr>\n",
              "      <th>5568</th>\n",
              "      <td>Man</td>\n",
              "      <td>Singapore</td>\n",
              "    </tr>\n",
              "    <tr>\n",
              "      <th>5570</th>\n",
              "      <td>Man</td>\n",
              "      <td>United States</td>\n",
              "    </tr>\n",
              "    <tr>\n",
              "      <th>5572</th>\n",
              "      <td>Man</td>\n",
              "      <td>United States</td>\n",
              "    </tr>\n",
              "  </tbody>\n",
              "</table>\n",
              "<p>2032 rows × 2 columns</p>\n",
              "</div>"
            ],
            "text/plain": [
              "     Gender         Country\n",
              "3       Man         Albania\n",
              "9       Man  United Kingdom\n",
              "10      Man  United Kingdom\n",
              "13      Man   United States\n",
              "16      Man   United States\n",
              "...     ...             ...\n",
              "5563    Man     Philippines\n",
              "5567    Man           China\n",
              "5568    Man       Singapore\n",
              "5570    Man   United States\n",
              "5572    Man   United States\n",
              "\n",
              "[2032 rows x 2 columns]"
            ]
          },
          "metadata": {},
          "execution_count": 139
        }
      ]
    },
    {
      "cell_type": "code",
      "metadata": {
        "id": "MrPoqLv8l-M0",
        "outputId": "4705bf0a-afbd-4432-a5b0-5ed44f4f526c",
        "colab": {
          "base_uri": "https://localhost:8080/"
        }
      },
      "source": [
        "temp2 = temp1['Country'].value_counts().head(10)\n",
        "temp2"
      ],
      "execution_count": 140,
      "outputs": [
        {
          "output_type": "execute_result",
          "data": {
            "text/plain": [
              "United States     928\n",
              "Canada            190\n",
              "India              96\n",
              "United Kingdom     88\n",
              "Germany            73\n",
              "Brazil             62\n",
              "France             39\n",
              "Australia          34\n",
              "Poland             32\n",
              "Mexico             23\n",
              "Name: Country, dtype: int64"
            ]
          },
          "metadata": {},
          "execution_count": 140
        }
      ]
    },
    {
      "cell_type": "markdown",
      "metadata": {
        "id": "MocZs3Wrl-M0"
      },
      "source": [
        "## Lets visualize the country vise counts for the Age Group (18-30 years)"
      ]
    },
    {
      "cell_type": "code",
      "metadata": {
        "id": "8JRzNphdl-M1",
        "outputId": "08ee6ed4-4dd1-4bbb-d7d8-a9139b8faea0",
        "colab": {
          "base_uri": "https://localhost:8080/",
          "height": 496
        }
      },
      "source": [
        "plt.figure(figsize=(12,6))\n",
        "plt.xticks(rotation=75)\n",
        "plt.title('No of respondents within age group 10-18 years and the country they were from ?')\n",
        "g=sns.barplot(y=temp2,x=temp2.index);\n",
        "g.set_ylabel(\"Count Distribuition in Thousands\", fontsize=16);"
      ],
      "execution_count": 141,
      "outputs": [
        {
          "output_type": "display_data",
          "data": {
            "image/png": "[encoded data removed]",
            "text/plain": [
              "<Figure size 864x432 with 1 Axes>"
            ]
          },
          "metadata": {}
        }
      ]
    },
    {
      "cell_type": "markdown",
      "metadata": {
        "id": "-G4UyWIAl-M1"
      },
      "source": [
        "## From above we can see United States hold highest count for Age Group (18 -30)\n"
      ]
    },
    {
      "cell_type": "code",
      "metadata": {
        "id": "_8k5LvHql-M1"
      },
      "source": [
        "tem4= survey_df.groupby(['AgeGroup','Country'])"
      ],
      "execution_count": 142,
      "outputs": []
    },
    {
      "cell_type": "code",
      "metadata": {
        "id": "dQnIaPbQl-M2",
        "outputId": "067b48c8-8e95-4826-cb51-8607b2bb30e3",
        "colab": {
          "base_uri": "https://localhost:8080/"
        }
      },
      "source": [
        "tem4"
      ],
      "execution_count": 143,
      "outputs": [
        {
          "output_type": "execute_result",
          "data": {
            "text/plain": [
              "<pandas.core.groupby.generic.DataFrameGroupBy object at 0x7f4964c8f990>"
            ]
          },
          "metadata": {},
          "execution_count": 143
        }
      ]
    },
    {
      "cell_type": "code",
      "metadata": {
        "id": "JVpEs7Ril-M2"
      },
      "source": [
        "### Now Lets try to get Gender distribution."
      ],
      "execution_count": null,
      "outputs": []
    },
    {
      "cell_type": "code",
      "metadata": {
        "id": "qBk0IyCVl-M3"
      },
      "source": [
        "tem5 = tem4.get_group(('18-30 years','United States'))[['Gender']]"
      ],
      "execution_count": 161,
      "outputs": []
    },
    {
      "cell_type": "code",
      "metadata": {
        "id": "TJiimi1pl-M3",
        "outputId": "23b0d883-79b7-41bd-dd13-2c3bc27dfb09",
        "colab": {
          "base_uri": "https://localhost:8080/"
        }
      },
      "source": [
        "tem6=tem5.value_counts()\n",
        "tem6"
      ],
      "execution_count": 162,
      "outputs": [
        {
          "output_type": "execute_result",
          "data": {
            "text/plain": [
              "Gender                                           \n",
              "Man                                                  813\n",
              "Woman                                                 96\n",
              "Non-binary, genderqueer, or gender non-conforming     13\n",
              "dtype: int64"
            ]
          },
          "metadata": {},
          "execution_count": 162
        }
      ]
    },
    {
      "cell_type": "markdown",
      "metadata": {
        "id": "dj1Sk2S0l-M4"
      },
      "source": [
        "## Gender vise distribution in United States for Age Group(10-18) years."
      ]
    },
    {
      "cell_type": "code",
      "metadata": {
        "id": "1UeBSeiol-M4",
        "outputId": "7528f61b-065d-4f29-fbc0-058daac18753",
        "colab": {
          "base_uri": "https://localhost:8080/",
          "height": 486
        }
      },
      "source": [
        "plt.figure(figsize=(18,8))\n",
        "plt.title('Gender distribution in United states for 18-30 Age Group')\n",
        "plt.pie(tem6, labels=['Man','Woman','Non-binary, genderqueer, or gender non-conforming'], autopct='%2.1f%%', startangle=180);"
      ],
      "execution_count": 165,
      "outputs": [
        {
          "output_type": "display_data",
          "data": {
            "image/png": "[encoded data removed]",
            "text/plain": [
              "<Figure size 1296x576 with 1 Axes>"
            ]
          },
          "metadata": {}
        }
      ]
    },
    {
      "cell_type": "markdown",
      "metadata": {
        "id": "w7Jf6CIfl-M4"
      },
      "source": [
        "# Thank you!"
      ]
    },
    {
      "cell_type": "code",
      "metadata": {
        "id": "2afLMviLl-M5",
        "outputId": "e0cc67b2-c2a9-44ad-e47f-98a87ffaf0b4"
      },
      "source": [
        "jovian.submit(assignment=\"zero-to-pandas-project\")"
      ],
      "execution_count": null,
      "outputs": [
        {
          "data": {
            "application/javascript": [
              "window.require && require([\"base/js/namespace\"],function(Jupyter){Jupyter.notebook.save_checkpoint()})"
            ],
            "text/plain": [
              "<IPython.core.display.Javascript object>"
            ]
          },
          "metadata": {},
          "output_type": "display_data"
        },
        {
          "name": "stdout",
          "output_type": "stream",
          "text": [
           
          ]
        }
      ]
    },
    {
      "cell_type": "code",
      "metadata": {
        "id": "8uaPKm3Ol-M7"
      },
      "source": [
        ""
      ],
      "execution_count": null,
      "outputs": []
    },
    {
      "cell_type": "code",
      "metadata": {
        "id": "YBLu9Ck8l-M7"
      },
      "source": [
        ""
      ],
      "execution_count": null,
      "outputs": []
    }
  ]
}
